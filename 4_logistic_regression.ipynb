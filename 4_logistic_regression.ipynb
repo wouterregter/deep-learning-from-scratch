{
 "cells": [
  {
   "cell_type": "markdown",
   "metadata": {},
   "source": [
    "## Setup"
   ]
  },
  {
   "cell_type": "code",
   "execution_count": 1,
   "metadata": {},
   "outputs": [],
   "source": [
    "import torch\n",
    "import torch.nn as nn\n",
    "import torch.optim as optim\n",
    "from torchvision import datasets, transforms\n",
    "from torch.utils.data import DataLoader, TensorDataset\n",
    "import torch.nn.functional as F\n",
    "\n",
    "from src.data import DataLoader\n",
    "from src.trainer import Trainer\n",
    "from src.optimizers import SGD"
   ]
  },
  {
   "cell_type": "markdown",
   "metadata": {},
   "source": [
    "## Load Data"
   ]
  },
  {
   "cell_type": "code",
   "execution_count": 2,
   "metadata": {},
   "outputs": [],
   "source": [
    "transform = transforms.Compose([transforms.ToTensor(), transforms.Normalize((0.5,), (0.5,))])\n",
    "mnist_trainset = datasets.MNIST(root='./data', train=True, download=True, transform=transform)\n",
    "mnist_testset = datasets.MNIST(root='./data', train=False, download=True, transform=transform)"
   ]
  },
  {
   "cell_type": "markdown",
   "metadata": {},
   "source": [
    "## Preprocessing"
   ]
  },
  {
   "cell_type": "code",
   "execution_count": 3,
   "metadata": {},
   "outputs": [],
   "source": [
    "# Transform the training data\n",
    "X_train = mnist_trainset.data.float() / 255.0\n",
    "X_train = X_train.view(X_train.shape[0], -1)\n",
    "y_train = mnist_trainset.targets\n",
    "\n",
    "# Transform the test data\n",
    "X_val = mnist_testset.data.float() / 255.0\n",
    "X_val = X_val.view(X_val.shape[0], -1)\n",
    "y_val = mnist_testset.targets\n",
    "\n",
    "train_dataloader = DataLoader(X_train, y_train, batch_size=256, shuffle=True)\n",
    "val_dataloader = DataLoader(X_val, y_val, batch_size=256, shuffle=False)"
   ]
  },
  {
   "cell_type": "markdown",
   "metadata": {},
   "source": [
    "## Softmax from Scratch"
   ]
  },
  {
   "cell_type": "code",
   "execution_count": 4,
   "metadata": {},
   "outputs": [
    {
     "name": "stdout",
     "output_type": "stream",
     "text": [
      "Are the custom softmax and PyTorch softmax results close? True\n"
     ]
    }
   ],
   "source": [
    "# Create a tensor for testing\n",
    "x = torch.randn(10, 5)  # A 2D tensor with batch size of 10 and 5 features\n",
    "\n",
    "def softmax(X):\n",
    "    # Compute the exponential of each element in the input tensor X\n",
    "    X_exp = torch.exp(X)\n",
    "    # Compute the sum of exponential values along each row, keeping the same dimensions\n",
    "    sum_exp = X_exp.sum(axis=1, keepdims=True)\n",
    "    # Divide each element in X_exp by the sum_exp to get the softmax probabilities\n",
    "    return X_exp / sum_exp\n",
    "\n",
    "\n",
    "# Apply the custom softmax function\n",
    "custom_softmax_results = softmax(x)\n",
    "\n",
    "# Apply PyTorch's softmax function\n",
    "pytorch_softmax_results = F.softmax(x, dim=-1)\n",
    "\n",
    "# Check if the results are close\n",
    "are_close = torch.allclose(custom_softmax_results, pytorch_softmax_results)\n",
    "\n",
    "print(f\"Are the custom softmax and PyTorch softmax results close? {are_close}\")"
   ]
  },
  {
   "cell_type": "markdown",
   "metadata": {},
   "source": [
    "## Cross Entropy from Scratch"
   ]
  },
  {
   "cell_type": "code",
   "execution_count": 5,
   "metadata": {},
   "outputs": [
    {
     "name": "stdout",
     "output_type": "stream",
     "text": [
      "Are the custom cross-entropy and PyTorch cross-entropy results close? True\n"
     ]
    }
   ],
   "source": [
    "import torch\n",
    "import torch.nn.functional as F\n",
    "\n",
    "class CrossEntropyLoss(nn.Module):\n",
    "    def __init__(self):\n",
    "        super(CrossEntropyLoss, self).__init__()\n",
    "\n",
    "    def forward(self, y_pred, y_true):\n",
    "        num_classes = y_pred.size(1)\n",
    "        y_one_hot = nn.functional.one_hot(y_true, num_classes)\n",
    "        loss = -(y_one_hot * torch.log(y_pred)).sum(axis=1).mean()\n",
    "        return loss\n",
    "\n",
    "# Create tensors for testing\n",
    "predictions = F.softmax(torch.randn(10, 5), dim=1)  # Random predictions (already passed through softmax)\n",
    "targets = torch.tensor([1, 0, 4, 1, 3, 2, 2, 1, 0, 4])  # Random true classes\n",
    "\n",
    "# Apply the custom cross-entropy function\n",
    "cross_entropy = CrossEntropyLoss()\n",
    "custom_loss = cross_entropy(predictions, targets)\n",
    "\n",
    "# Apply PyTorch's cross-entropy function\n",
    "# Note: PyTorch's cross-entropy loss combines log_softmax and nll_loss in a single function,\n",
    "# so we pass the logits (predictions before softmax) to it.\n",
    "pytorch_loss = F.cross_entropy(torch.log(predictions), targets)  # Using log(predictions) as a proxy for logits\n",
    "\n",
    "# Check if the results are close\n",
    "are_close = torch.allclose(custom_loss, pytorch_loss, atol=1e-6)\n",
    "\n",
    "print(f\"Are the custom cross-entropy and PyTorch cross-entropy results close? {are_close}\")\n"
   ]
  },
  {
   "cell_type": "markdown",
   "metadata": {},
   "source": [
    "## Logistic Regression From Scratch"
   ]
  },
  {
   "cell_type": "markdown",
   "metadata": {},
   "source": [
    "### Simple Training Loop"
   ]
  },
  {
   "cell_type": "code",
   "execution_count": 7,
   "metadata": {},
   "outputs": [
    {
     "name": "stderr",
     "output_type": "stream",
     "text": [
      "C:\\Users\\woute\\AppData\\Local\\Temp\\ipykernel_12716\\1084198965.py:12: UserWarning: Implicit dimension choice for softmax has been deprecated. Change the call to include dim=X as an argument.\n",
      "  y_pred = F.softmax(O)\n"
     ]
    },
    {
     "name": "stdout",
     "output_type": "stream",
     "text": [
      "2.21075564270958\n",
      "0.04088406531893193\n",
      "0.017243139818310736\n"
     ]
    }
   ],
   "source": [
    "num_samples = X_train.shape[0]\n",
    "num_classes = y_train.unique().shape[0]\n",
    "batch_size = 64\n",
    "\n",
    "# Initialize W, it should be shape (num_features, num_classes) because it will \n",
    "# transform the input (num_examples, num_features) to the output (num_examples, num_classes)\n",
    "W = torch.randn(size=(X_train.shape[1], num_classes), requires_grad=True)\n",
    "# Initialize b, it should be shape (1, 1) because it will be a scalar we add to each class \n",
    "# prediction for each example\n",
    "b = torch.zeros(num_classes, requires_grad=True)\n",
    "\n",
    "parameters = [W, b]\n",
    "optimizer = SGD(parameters, lr=0.1)\n",
    "cross_entropy = CrossEntropyLoss()\n",
    "\n",
    "# Create a batch\n",
    "X_batch = X_train[: batch_size]\n",
    "y_batch = y_train[: batch_size]\n",
    "\n",
    "num_epochs = 3\n",
    "for epoch in range(num_epochs):\n",
    "    total_loss = 0\n",
    "    for batch in train_dataloader:\n",
    "        inputs, targets = batch\n",
    "    \n",
    "        # Zero gradients\n",
    "        optimizer.zero_grad()\n",
    "        \n",
    "        # Forward pass (training)\n",
    "        O = X_batch @ W + b\n",
    "        y_pred = F.softmax(O)\n",
    "        \n",
    "        # Calculate Loss\n",
    "        loss = cross_entropy(y_pred, y_batch)\n",
    "        \n",
    "        # Backward pass (compute gradients)\n",
    "        loss.backward()\n",
    "        \n",
    "        # Update parameters\n",
    "        optimizer.step()\n",
    "        total_loss += loss.item()\n",
    "\n",
    "    print(total_loss / len(train_dataloader))"
   ]
  },
  {
   "cell_type": "markdown",
   "metadata": {},
   "source": [
    "### Define Training Loop and Model"
   ]
  },
  {
   "cell_type": "code",
   "execution_count": 8,
   "metadata": {},
   "outputs": [],
   "source": [
    "class LogisticRegression(nn.Module):\n",
    "    def __init__(self, in_features, num_classes):\n",
    "        super().__init__()\n",
    "        self.num_classes = num_classes\n",
    "        self.W = torch.randn(size=(in_features, num_classes), requires_grad=True)\n",
    "        self.b = torch.zeros(num_classes, requires_grad=True)\n",
    "\n",
    "    def forward(self, X):\n",
    "        O = X @ self.W + self.b\n",
    "        y_pred = F.softmax(O)\n",
    "        return y_pred\n",
    "    \n",
    "    def parameters(self):\n",
    "        return [self.W, self.b]"
   ]
  },
  {
   "cell_type": "markdown",
   "metadata": {},
   "source": [
    "### Training the Model"
   ]
  },
  {
   "cell_type": "code",
   "execution_count": 9,
   "metadata": {},
   "outputs": [],
   "source": [
    "class Accuracy:\n",
    "    def __init__(self):\n",
    "        self.correct = 0\n",
    "        self.total = 0\n",
    "\n",
    "    def update(self, outputs, targets):\n",
    "        _, predicted = torch.max(outputs, 1)\n",
    "        self.correct += (predicted == targets).sum().item()\n",
    "        self.total += targets.size(0)\n",
    "\n",
    "    def compute(self):\n",
    "        return self.correct / self.total if self.total else 0\n",
    "\n",
    "    def reset(self):\n",
    "        self.correct = 0\n",
    "        self.total = 0"
   ]
  },
  {
   "cell_type": "code",
   "execution_count": 10,
   "metadata": {},
   "outputs": [
    {
     "name": "stderr",
     "output_type": "stream",
     "text": [
      "C:\\Users\\woute\\AppData\\Local\\Temp\\ipykernel_12716\\919375264.py:10: UserWarning: Implicit dimension choice for softmax has been deprecated. Change the call to include dim=X as an argument.\n",
      "  y_pred = F.softmax(O)\n"
     ]
    },
    {
     "name": "stdout",
     "output_type": "stream",
     "text": [
      "Epoch 1/15, Training Loss: 10.0009, Validation Loss: 7.8987\n",
      "Validation accuracy: 0.1930\n",
      "Epoch 2/15, Training Loss: 6.8537, Validation Loss: 5.7552\n",
      "Validation accuracy: 0.2809\n",
      "Epoch 3/15, Training Loss: 5.2233, Validation Loss: 4.5223\n",
      "Validation accuracy: 0.3708\n",
      "Epoch 4/15, Training Loss: 4.2443, Validation Loss: 3.7422\n",
      "Validation accuracy: 0.4451\n",
      "Epoch 5/15, Training Loss: 3.6026, Validation Loss: 3.2132\n",
      "Validation accuracy: 0.4938\n",
      "Epoch 6/15, Training Loss: 3.1505, Validation Loss: 2.8342\n",
      "Validation accuracy: 0.5354\n",
      "Epoch 7/15, Training Loss: 2.8183, Validation Loss: 2.5501\n",
      "Validation accuracy: 0.5695\n",
      "Epoch 8/15, Training Loss: 2.5616, Validation Loss: 2.3307\n",
      "Validation accuracy: 0.5950\n",
      "Epoch 9/15, Training Loss: 2.3613, Validation Loss: 2.1563\n",
      "Validation accuracy: 0.6192\n",
      "Epoch 10/15, Training Loss: 2.1971, Validation Loss: 2.0144\n",
      "Validation accuracy: 0.6393\n",
      "Epoch 11/15, Training Loss: 2.0617, Validation Loss: 1.8955\n",
      "Validation accuracy: 0.6556\n",
      "Epoch 12/15, Training Loss: 1.9472, Validation Loss: 1.7942\n",
      "Validation accuracy: 0.6694\n",
      "Epoch 13/15, Training Loss: 1.8482, Validation Loss: 1.7083\n",
      "Validation accuracy: 0.6820\n",
      "Epoch 14/15, Training Loss: 1.7658, Validation Loss: 1.6334\n",
      "Validation accuracy: 0.6923\n",
      "Epoch 15/15, Training Loss: 1.6908, Validation Loss: 1.5671\n",
      "Validation accuracy: 0.7008\n"
     ]
    },
    {
     "data": {
      "image/png": "[encoded data removed]",
      "text/plain": [
       "<Figure size 640x480 with 1 Axes>"
      ]
     },
     "metadata": {},
     "output_type": "display_data"
    }
   ],
   "source": [
    "in_features = X_train.shape[1]\n",
    "num_classes = y_train.unique().shape[0]\n",
    "num_epochs = 15\n",
    "learning_rate = 0.01\n",
    "\n",
    "model = LogisticRegression(in_features=in_features, num_classes=num_classes)\n",
    "optimizer = SGD(model.parameters(), lr=learning_rate)\n",
    "criterion = CrossEntropyLoss()\n",
    "metrics = {'accuracy':Accuracy()}\n",
    "trainer = Trainer(model, train_dataloader, val_dataloader, optimizer, criterion, custom_metrics=metrics)\n",
    "trainer.fit(num_epochs=num_epochs)"
   ]
  },
  {
   "cell_type": "markdown",
   "metadata": {},
   "source": [
    "## Concise Implementation of Logistic Regression"
   ]
  },
  {
   "cell_type": "code",
   "execution_count": 11,
   "metadata": {},
   "outputs": [
    {
     "name": "stdout",
     "output_type": "stream",
     "text": [
      "Epoch 1/10, Training Loss: 2.0410, Validation Loss: 1.8559\n",
      "Epoch 2/10, Training Loss: 1.8092, Validation Loss: 1.7536\n",
      "Epoch 3/10, Training Loss: 1.7388, Validation Loss: 1.7060\n",
      "Epoch 4/10, Training Loss: 1.6928, Validation Loss: 1.6637\n",
      "Epoch 5/10, Training Loss: 1.6628, Validation Loss: 1.6434\n",
      "Epoch 6/10, Training Loss: 1.6461, Validation Loss: 1.6308\n",
      "Epoch 7/10, Training Loss: 1.6351, Validation Loss: 1.6220\n",
      "Epoch 8/10, Training Loss: 1.6270, Validation Loss: 1.6150\n",
      "Epoch 9/10, Training Loss: 1.6206, Validation Loss: 1.6097\n",
      "Epoch 10/10, Training Loss: 1.6153, Validation Loss: 1.6052\n"
     ]
    },
    {
     "data": {
      "image/png": "[encoded data removed]",
      "text/plain": [
       "<Figure size 640x480 with 1 Axes>"
      ]
     },
     "metadata": {},
     "output_type": "display_data"
    }
   ],
   "source": [
    "# Assuming X and y are your feature and target tensors\n",
    "# Split Data into Train and Test Sets\n",
    "train_dataset = torch.utils.data.TensorDataset(X_train, y_train)\n",
    "val_dataset = torch.utils.data.TensorDataset(X_val, y_val)\n",
    "\n",
    "# Define DataLoader\n",
    "batch_size = 256\n",
    "train_dataloader = torch.utils.data.DataLoader(train_dataset, batch_size=batch_size, shuffle=True)\n",
    "val_dataloader = torch.utils.data.DataLoader(val_dataset, batch_size=batch_size)\n",
    "\n",
    "# Define the Linear Regression Model\n",
    "class LogisticRegression(nn.Module):\n",
    "    def __init__(self, input_size, num_classes):\n",
    "        super(LogisticRegression, self).__init__()\n",
    "        self.linear = nn.Linear(input_size, num_classes)\n",
    "        self.softmax = nn.Softmax(dim=1)\n",
    "\n",
    "    def forward(self, x):\n",
    "        out = self.linear(x)\n",
    "        out = self.softmax(out)\n",
    "        return out\n",
    "\n",
    "model = LogisticRegression(input_size=X_train.shape[1], num_classes=y_train.unique().shape[0])\n",
    "\n",
    "# Loss and Optimizer\n",
    "criterion = nn.CrossEntropyLoss()\n",
    "optimizer = optim.SGD(model.parameters(), lr=0.1)\n",
    "trainer = Trainer(model, train_dataloader, val_dataloader, optimizer, criterion)\n",
    "trainer.fit(num_epochs=10)"
   ]
  }
 ],
 "metadata": {
  "kernelspec": {
   "display_name": "d2l",
   "language": "python",
   "name": "python3"
  },
  "language_info": {
   "codemirror_mode": {
    "name": "ipython",
    "version": 3
   },
   "file_extension": ".py",
   "mimetype": "text/x-python",
   "name": "python",
   "nbconvert_exporter": "python",
   "pygments_lexer": "ipython3",
   "version": "3.8.18"
  }
 },
 "nbformat": 4,
 "nbformat_minor": 2
}
