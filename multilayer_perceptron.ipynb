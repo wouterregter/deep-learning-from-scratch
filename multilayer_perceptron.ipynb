{
 "cells": [
  {
   "cell_type": "markdown",
   "metadata": {},
   "source": [
    "# Logistic Regression"
   ]
  },
  {
   "cell_type": "markdown",
   "metadata": {},
   "source": [
    "## Setup"
   ]
  },
  {
   "cell_type": "code",
   "execution_count": 1,
   "metadata": {},
   "outputs": [],
   "source": [
    "import matplotlib.pyplot as plt\n",
    "import torch\n",
    "from torch import nn\n",
    "import numpy as np\n",
    "import pandas as pd\n",
    "import seaborn as sns\n",
    "from src.tools import DataLoaderScratch, SGDScratch, TrainerScratch\n",
    "from torchvision import datasets, transforms"
   ]
  },
  {
   "cell_type": "markdown",
   "metadata": {},
   "source": [
    "## Load Data"
   ]
  },
  {
   "cell_type": "code",
   "execution_count": 2,
   "metadata": {},
   "outputs": [],
   "source": [
    "transform = transforms.Compose(\n",
    "    [transforms.ToTensor(), transforms.Normalize((0.5,), (0.5,))]\n",
    ")\n",
    "mnist_trainset = datasets.MNIST(\n",
    "    root=\"./data\", train=True, download=True, transform=transform\n",
    ")\n",
    "mnist_testset = datasets.MNIST(\n",
    "    root=\"./data\", train=False, download=True, transform=transform\n",
    ")"
   ]
  },
  {
   "cell_type": "markdown",
   "metadata": {},
   "source": [
    "## Preprocessing"
   ]
  },
  {
   "cell_type": "code",
   "execution_count": 3,
   "metadata": {},
   "outputs": [],
   "source": [
    "# Transform the training data\n",
    "X_train = mnist_trainset.data.float() / 255.0\n",
    "X_train = X_train.view(X_train.shape[0], -1)\n",
    "y_train = mnist_trainset.targets\n",
    "\n",
    "# Transform the test data\n",
    "X_val = mnist_testset.data.float() / 255.0\n",
    "X_val = X_val.view(X_val.shape[0], -1)\n",
    "y_val = mnist_testset.targets\n",
    "\n",
    "train_dataloader = DataLoaderScratch(X_train, y_train, batch_size=256, shuffle=True)\n",
    "val_dataloader = DataLoaderScratch(X_val, y_val, batch_size=256, shuffle=False)"
   ]
  },
  {
   "cell_type": "markdown",
   "metadata": {},
   "source": [
    "## Theoretical Background"
   ]
  },
  {
   "cell_type": "markdown",
   "metadata": {},
   "source": [
    "## Multilayer Perceptron From Scratch"
   ]
  },
  {
   "cell_type": "markdown",
   "metadata": {},
   "source": [
    "Our network will have 2 hidden layers with 6 units each.\n",
    "\n",
    "- W1: X with shape (num_samples, in_features) will be transformed by W1 (in_features, num_units) to Z1 with shape (num_samples, num_units).\n",
    "- b1: b1 will be added to the matrix product of X and W1 which will be size (num_samples, num_units), so we will make it shape (num_units).\n",
    "- W2: A1 with shape (num_samples, num_units) will be transformed by W2 (num_units, num_outpurs) to Z2 with shape (num_samples, num_classes).\n",
    "- b2: b2 will be added to the matrix product of A1 and W2 which will be size (num_samples, num_classes), so we will make it shape (num_classes)."
   ]
  },
  {
   "cell_type": "markdown",
   "metadata": {},
   "source": [
    "### Single Batch Iteration"
   ]
  },
  {
   "cell_type": "code",
   "execution_count": 4,
   "metadata": {},
   "outputs": [],
   "source": [
    "# Create a batch\n",
    "batch_size = 128\n",
    "perm = torch.randperm(len(X_train))\n",
    "X_batch = X_train[perm][:batch_size]\n",
    "y_batch = y_train[perm][:batch_size]\n",
    "\n",
    "in_features = X_train.shape[1]\n",
    "num_units = 256\n",
    "num_classes = y_train.unique().shape[0]\n",
    "\n",
    "\n",
    "def relu(x):\n",
    "    out = torch.maximum(x, torch.zeros(1))\n",
    "    return out\n",
    "\n",
    "\n",
    "def softmax(X):\n",
    "    X_exp = torch.exp(X)\n",
    "    X_softmax = X_exp / X_exp.sum(axis=1, keepdims=True)\n",
    "    return X_softmax\n",
    "\n",
    "\n",
    "# Define the log-loss\n",
    "def log_loss(y_pred, y):\n",
    "    y_one_hot = nn.functional.one_hot(y)\n",
    "    loss = -(y_one_hot * torch.log(y_pred)).sum(axis=1).mean()\n",
    "    return loss\n",
    "\n",
    "\n",
    "W1 = nn.Parameter(torch.randn(in_features, num_units) * 0.01)\n",
    "b1 = nn.Parameter(torch.zeros(num_units))\n",
    "W2 = nn.Parameter(torch.randn(num_units, num_classes) * 0.01)\n",
    "b2 = nn.Parameter(torch.zeros(num_classes))\n",
    "\n",
    "parameters = [W1, b1, W2, b2]\n",
    "optimizer = SGDScratch(parameters, lr=0.1)"
   ]
  },
  {
   "cell_type": "code",
   "execution_count": 5,
   "metadata": {},
   "outputs": [],
   "source": [
    "# Zero gradients\n",
    "optimizer.zero_grad()\n",
    "\n",
    "# Forward pass\n",
    "Z1 = X_batch @ W1 + b1\n",
    "A1 = relu(Z1)\n",
    "Z2 = A1 @ W2 + b2\n",
    "y_pred = softmax(Z2)\n",
    "\n",
    "# Calculate Loss\n",
    "loss = log_loss(y_pred, y_batch)\n",
    "\n",
    "# Compute gradients\n",
    "loss.backward()\n",
    "\n",
    "# Update parameters\n",
    "optimizer.step()"
   ]
  },
  {
   "cell_type": "code",
   "execution_count": 6,
   "metadata": {},
   "outputs": [
    {
     "name": "stdout",
     "output_type": "stream",
     "text": [
      "X_batch: (128, 784)\n",
      "W1: (784, 256)\n",
      "b1: (256,)\n",
      "Z1: (128, 256)\n",
      "A1: (128, 256)\n",
      "W2: (256, 10)\n",
      "b2: (10,)\n",
      "Z2: (128, 10)\n",
      "y_pred: (128, 10)\n"
     ]
    }
   ],
   "source": [
    "get_shape = lambda x: tuple([x.shape[i] for i in range(len(x.shape))])\n",
    "\n",
    "print(\"X_batch:\", get_shape(X_batch))\n",
    "print(\"W1:\", get_shape(W1))\n",
    "print(\"b1:\", get_shape(b1))\n",
    "print(\"Z1:\", get_shape(Z1))\n",
    "print(\"A1:\", get_shape(A1))\n",
    "print(\"W2:\", get_shape(W2))\n",
    "print(\"b2:\", get_shape(b2))\n",
    "print(\"Z2:\", get_shape(Z2))\n",
    "print(\"y_pred:\", get_shape(y_pred))"
   ]
  },
  {
   "cell_type": "markdown",
   "metadata": {},
   "source": [
    "### Define Training Loop and Model"
   ]
  },
  {
   "cell_type": "code",
   "execution_count": 7,
   "metadata": {},
   "outputs": [],
   "source": [
    "class MLPScratch(nn.Module):\n",
    "    def __init__(self, in_features, num_classes, num_units):\n",
    "        super().__init__()\n",
    "        self.num_classes = num_classes\n",
    "        self.W1 = nn.Parameter(torch.randn(in_features, num_units) * 0.01)\n",
    "        self.b1 = nn.Parameter(torch.zeros(num_units))\n",
    "        self.W2 = nn.Parameter(torch.randn(num_units, num_classes) * 0.01)\n",
    "        self.b2 = nn.Parameter(torch.zeros(num_classes))\n",
    "\n",
    "    def relu(self, X):\n",
    "        out = torch.maximum(X, torch.zeros(1))\n",
    "        return out\n",
    "\n",
    "    def softmax(self, X):\n",
    "        X_exp = torch.exp(X)\n",
    "        X_softmax = X_exp / X_exp.sum(axis=1, keepdims=True)\n",
    "        return X_softmax\n",
    "\n",
    "    def forward(self, X):\n",
    "        # Forward pass\n",
    "        Z1 = X @ self.W1 + self.b1\n",
    "        A1 = self.relu(Z1)\n",
    "        Z2 = A1 @ self.W2 + self.b2\n",
    "        y_pred = self.softmax(Z2)\n",
    "        return y_pred\n",
    "\n",
    "    def parameters(self):\n",
    "        return [self.W1, self.b1, self.W2, self.b2]"
   ]
  },
  {
   "cell_type": "code",
   "execution_count": 8,
   "metadata": {},
   "outputs": [],
   "source": [
    "class CrossEntropyScratch(nn.Module):\n",
    "    def __init__(self, num_classes):\n",
    "        super(CrossEntropyScratch, self).__init__()\n",
    "        self.num_classes = num_classes\n",
    "\n",
    "    def forward(self, y_pred, y_true):\n",
    "        y_one_hot = nn.functional.one_hot(y_true, self.num_classes)\n",
    "        loss = -(y_one_hot * torch.log(y_pred)).sum(axis=1).mean()\n",
    "        return loss"
   ]
  },
  {
   "cell_type": "markdown",
   "metadata": {},
   "source": [
    "### Define Training Loop and Model"
   ]
  },
  {
   "cell_type": "code",
   "execution_count": 9,
   "metadata": {},
   "outputs": [
    {
     "name": "stdout",
     "output_type": "stream",
     "text": [
      "Epoch 1/20, Training Loss: 1.0425, Validation Loss: 0.4216\n",
      "Epoch 2/20, Training Loss: 0.3800, Validation Loss: 0.3193\n",
      "Epoch 3/20, Training Loss: 0.3205, Validation Loss: 0.2862\n",
      "Epoch 4/20, Training Loss: 0.2868, Validation Loss: 0.2577\n",
      "Epoch 5/20, Training Loss: 0.2602, Validation Loss: 0.2362\n",
      "Epoch 6/20, Training Loss: 0.2386, Validation Loss: 0.2212\n",
      "Epoch 7/20, Training Loss: 0.2193, Validation Loss: 0.2062\n",
      "Epoch 8/20, Training Loss: 0.2032, Validation Loss: 0.1899\n",
      "Epoch 9/20, Training Loss: 0.1891, Validation Loss: 0.1776\n",
      "Epoch 10/20, Training Loss: 0.1765, Validation Loss: 0.1679\n",
      "Epoch 11/20, Training Loss: 0.1653, Validation Loss: 0.1605\n",
      "Epoch 12/20, Training Loss: 0.1553, Validation Loss: 0.1527\n",
      "Epoch 13/20, Training Loss: 0.1469, Validation Loss: 0.1449\n",
      "Epoch 14/20, Training Loss: 0.1389, Validation Loss: 0.1402\n",
      "Epoch 15/20, Training Loss: 0.1312, Validation Loss: 0.1309\n",
      "Epoch 16/20, Training Loss: 0.1247, Validation Loss: 0.1288\n",
      "Epoch 17/20, Training Loss: 0.1184, Validation Loss: 0.1207\n",
      "Epoch 18/20, Training Loss: 0.1131, Validation Loss: 0.1178\n",
      "Epoch 19/20, Training Loss: 0.1079, Validation Loss: 0.1138\n",
      "Epoch 20/20, Training Loss: 0.1031, Validation Loss: 0.1102\n"
     ]
    },
    {
     "data": {
      "image/png": "[encoded data removed]",
      "text/plain": [
       "<Figure size 640x480 with 1 Axes>"
      ]
     },
     "metadata": {},
     "output_type": "display_data"
    }
   ],
   "source": [
    "in_features = X_train.shape[1]\n",
    "num_classes = y_train.unique().shape[0]\n",
    "num_units = 256\n",
    "num_epochs = 20\n",
    "learning_rate = 0.1\n",
    "\n",
    "model = MLPScratch(in_features, num_classes, num_units)\n",
    "optimizer = SGDScratch(model.parameters(), lr=learning_rate)\n",
    "criterion = CrossEntropyScratch(num_classes=num_classes)\n",
    "trainer = TrainerScratch(model, train_dataloader, val_dataloader, optimizer, criterion)\n",
    "trainer.fit(num_epochs=num_epochs)"
   ]
  },
  {
   "cell_type": "markdown",
   "metadata": {},
   "source": [
    "## Concise Implementation of MLP"
   ]
  }
 ],
 "metadata": {
  "kernelspec": {
   "display_name": "d2l",
   "language": "python",
   "name": "python3"
  },
  "language_info": {
   "codemirror_mode": {
    "name": "ipython",
    "version": 3
   },
   "file_extension": ".py",
   "mimetype": "text/x-python",
   "name": "python",
   "nbconvert_exporter": "python",
   "pygments_lexer": "ipython3",
   "version": "3.9.18"
  }
 },
 "nbformat": 4,
 "nbformat_minor": 2
}
