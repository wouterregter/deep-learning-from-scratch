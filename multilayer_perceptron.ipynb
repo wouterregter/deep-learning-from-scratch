{
 "cells": [
  {
   "cell_type": "markdown",
   "metadata": {},
   "source": [
    "# Logistic Regression"
   ]
  },
  {
   "cell_type": "markdown",
   "metadata": {},
   "source": [
    "## Setup"
   ]
  },
  {
   "cell_type": "code",
   "execution_count": 1,
   "metadata": {},
   "outputs": [],
   "source": [
    "import torch\n",
    "from torch import nn\n",
    "from torchvision import datasets, transforms\n",
    "from torch.utils.data import DataLoader, TensorDataset\n",
    "import torch.optim as optim\n",
    "\n",
    "from src.data import DataLoaderScratch\n",
    "from src.trainer import TrainerScratch\n",
    "from src.optimizers import SGDScratch"
   ]
  },
  {
   "cell_type": "markdown",
   "metadata": {},
   "source": [
    "## Load Data"
   ]
  },
  {
   "cell_type": "code",
   "execution_count": 2,
   "metadata": {},
   "outputs": [],
   "source": [
    "transform = transforms.Compose(\n",
    "    [transforms.ToTensor(), transforms.Normalize((0.5,), (0.5,))]\n",
    ")\n",
    "mnist_trainset = datasets.MNIST(\n",
    "    root=\"./data\", train=True, download=True, transform=transform\n",
    ")\n",
    "mnist_testset = datasets.MNIST(\n",
    "    root=\"./data\", train=False, download=True, transform=transform\n",
    ")"
   ]
  },
  {
   "cell_type": "markdown",
   "metadata": {},
   "source": [
    "## Preprocessing"
   ]
  },
  {
   "cell_type": "code",
   "execution_count": 3,
   "metadata": {},
   "outputs": [],
   "source": [
    "# Transform the training data\n",
    "X_train = mnist_trainset.data.float() / 255.0\n",
    "X_train = X_train.view(X_train.shape[0], -1)\n",
    "y_train = mnist_trainset.targets\n",
    "\n",
    "# Transform the test data\n",
    "X_val = mnist_testset.data.float() / 255.0\n",
    "X_val = X_val.view(X_val.shape[0], -1)\n",
    "y_val = mnist_testset.targets\n",
    "\n",
    "train_dataloader = DataLoaderScratch(X_train, y_train, batch_size=256, shuffle=True)\n",
    "val_dataloader = DataLoaderScratch(X_val, y_val, batch_size=256, shuffle=False)"
   ]
  },
  {
   "cell_type": "markdown",
   "metadata": {},
   "source": [
    "## Theoretical Background"
   ]
  },
  {
   "cell_type": "markdown",
   "metadata": {},
   "source": [
    "## Multilayer Perceptron From Scratch"
   ]
  },
  {
   "cell_type": "markdown",
   "metadata": {},
   "source": [
    "Our network will have 2 hidden layers with 6 units each.\n",
    "\n",
    "- W1: X with shape (num_samples, in_features) will be transformed by W1 (in_features, num_units) to Z1 with shape (num_samples, num_units).\n",
    "- b1: b1 will be added to the matrix product of X and W1 which will be size (num_samples, num_units), so we will make it shape (num_units).\n",
    "- W2: A1 with shape (num_samples, num_units) will be transformed by W2 (num_units, num_outpurs) to Z2 with shape (num_samples, num_classes).\n",
    "- b2: b2 will be added to the matrix product of A1 and W2 which will be size (num_samples, num_classes), so we will make it shape (num_classes)."
   ]
  },
  {
   "cell_type": "markdown",
   "metadata": {},
   "source": [
    "### Single Batch Iteration"
   ]
  },
  {
   "cell_type": "code",
   "execution_count": 4,
   "metadata": {},
   "outputs": [],
   "source": [
    "# Create a batch\n",
    "batch_size = 128\n",
    "perm = torch.randperm(len(X_train))\n",
    "X_batch = X_train[perm][:batch_size]\n",
    "y_batch = y_train[perm][:batch_size]\n",
    "\n",
    "in_features = X_train.shape[1]\n",
    "num_units = 256\n",
    "num_classes = y_train.unique().shape[0]\n",
    "\n",
    "\n",
    "def relu(x):\n",
    "    out = torch.maximum(x, torch.zeros(1))\n",
    "    return out\n",
    "\n",
    "\n",
    "def softmax(X):\n",
    "    X_exp = torch.exp(X)\n",
    "    X_softmax = X_exp / X_exp.sum(axis=1, keepdims=True)\n",
    "    return X_softmax\n",
    "\n",
    "\n",
    "# Define the log-loss\n",
    "def log_loss(y_pred, y):\n",
    "    y_one_hot = nn.functional.one_hot(y)\n",
    "    loss = -(y_one_hot * torch.log(y_pred)).sum(axis=1).mean()\n",
    "    return loss\n",
    "\n",
    "\n",
    "W1 = nn.Parameter(torch.randn(in_features, num_units) * 0.01)\n",
    "b1 = nn.Parameter(torch.zeros(num_units))\n",
    "W2 = nn.Parameter(torch.randn(num_units, num_classes) * 0.01)\n",
    "b2 = nn.Parameter(torch.zeros(num_classes))\n",
    "\n",
    "parameters = [W1, b1, W2, b2]\n",
    "optimizer = SGDScratch(parameters, lr=0.1)"
   ]
  },
  {
   "cell_type": "code",
   "execution_count": 5,
   "metadata": {},
   "outputs": [],
   "source": [
    "# Zero gradients\n",
    "optimizer.zero_grad()\n",
    "\n",
    "# Forward pass\n",
    "Z1 = X_batch @ W1 + b1\n",
    "A1 = relu(Z1)\n",
    "Z2 = A1 @ W2 + b2\n",
    "y_pred = softmax(Z2)\n",
    "\n",
    "# Calculate Loss\n",
    "loss = log_loss(y_pred, y_batch)\n",
    "\n",
    "# Compute gradients\n",
    "loss.backward()\n",
    "\n",
    "# Update parameters\n",
    "optimizer.step()"
   ]
  },
  {
   "cell_type": "code",
   "execution_count": 6,
   "metadata": {},
   "outputs": [
    {
     "name": "stdout",
     "output_type": "stream",
     "text": [
      "X_batch: (128, 784)\n",
      "W1: (784, 256)\n",
      "b1: (256,)\n",
      "Z1: (128, 256)\n",
      "A1: (128, 256)\n",
      "W2: (256, 10)\n",
      "b2: (10,)\n",
      "Z2: (128, 10)\n",
      "y_pred: (128, 10)\n"
     ]
    }
   ],
   "source": [
    "get_shape = lambda x: tuple([x.shape[i] for i in range(len(x.shape))])\n",
    "\n",
    "print(\"X_batch:\", get_shape(X_batch))\n",
    "print(\"W1:\", get_shape(W1))\n",
    "print(\"b1:\", get_shape(b1))\n",
    "print(\"Z1:\", get_shape(Z1))\n",
    "print(\"A1:\", get_shape(A1))\n",
    "print(\"W2:\", get_shape(W2))\n",
    "print(\"b2:\", get_shape(b2))\n",
    "print(\"Z2:\", get_shape(Z2))\n",
    "print(\"y_pred:\", get_shape(y_pred))"
   ]
  },
  {
   "cell_type": "markdown",
   "metadata": {},
   "source": [
    "### Define Training Loop and Model"
   ]
  },
  {
   "cell_type": "code",
   "execution_count": 7,
   "metadata": {},
   "outputs": [],
   "source": [
    "class MLPScratch(nn.Module):\n",
    "    def __init__(self, in_features, num_classes, num_units):\n",
    "        super().__init__()\n",
    "        self.num_classes = num_classes\n",
    "        self.W1 = nn.Parameter(torch.randn(in_features, num_units) * 0.01)\n",
    "        self.b1 = nn.Parameter(torch.zeros(num_units))\n",
    "        self.W2 = nn.Parameter(torch.randn(num_units, num_classes) * 0.01)\n",
    "        self.b2 = nn.Parameter(torch.zeros(num_classes))\n",
    "\n",
    "    def relu(self, X):\n",
    "        out = torch.maximum(X, torch.zeros(1))\n",
    "        return out\n",
    "\n",
    "    def softmax(self, X):\n",
    "        X_exp = torch.exp(X)\n",
    "        X_softmax = X_exp / X_exp.sum(axis=1, keepdims=True)\n",
    "        return X_softmax\n",
    "\n",
    "    def forward(self, X):\n",
    "        # Forward pass\n",
    "        Z1 = X @ self.W1 + self.b1\n",
    "        A1 = self.relu(Z1)\n",
    "        Z2 = A1 @ self.W2 + self.b2\n",
    "        y_pred = self.softmax(Z2)\n",
    "        return y_pred\n",
    "\n",
    "    def parameters(self):\n",
    "        return [self.W1, self.b1, self.W2, self.b2]"
   ]
  },
  {
   "cell_type": "code",
   "execution_count": 8,
   "metadata": {},
   "outputs": [],
   "source": [
    "class CrossEntropyScratch(nn.Module):\n",
    "    def __init__(self, num_classes):\n",
    "        super(CrossEntropyScratch, self).__init__()\n",
    "        self.num_classes = num_classes\n",
    "\n",
    "    def forward(self, y_pred, y_true):\n",
    "        y_one_hot = nn.functional.one_hot(y_true, self.num_classes)\n",
    "        loss = -(y_one_hot * torch.log(y_pred)).sum(axis=1).mean()\n",
    "        return loss"
   ]
  },
  {
   "cell_type": "markdown",
   "metadata": {},
   "source": [
    "### Define Training Loop and Model"
   ]
  },
  {
   "cell_type": "code",
   "execution_count": 9,
   "metadata": {},
   "outputs": [
    {
     "name": "stdout",
     "output_type": "stream",
     "text": [
      "Epoch 1/20, Training Loss: 1.0427, Validation Loss: 0.4225\n",
      "Epoch 2/20, Training Loss: 0.3789, Validation Loss: 0.3166\n",
      "Epoch 3/20, Training Loss: 0.3184, Validation Loss: 0.2834\n",
      "Epoch 4/20, Training Loss: 0.2852, Validation Loss: 0.2643\n",
      "Epoch 5/20, Training Loss: 0.2599, Validation Loss: 0.2365\n",
      "Epoch 6/20, Training Loss: 0.2382, Validation Loss: 0.2172\n",
      "Epoch 7/20, Training Loss: 0.2196, Validation Loss: 0.2048\n",
      "Epoch 8/20, Training Loss: 0.2032, Validation Loss: 0.1914\n",
      "Epoch 9/20, Training Loss: 0.1890, Validation Loss: 0.1776\n",
      "Epoch 10/20, Training Loss: 0.1776, Validation Loss: 0.1729\n",
      "Epoch 11/20, Training Loss: 0.1657, Validation Loss: 0.1583\n",
      "Epoch 12/20, Training Loss: 0.1559, Validation Loss: 0.1519\n",
      "Epoch 13/20, Training Loss: 0.1472, Validation Loss: 0.1439\n",
      "Epoch 14/20, Training Loss: 0.1391, Validation Loss: 0.1368\n",
      "Epoch 15/20, Training Loss: 0.1318, Validation Loss: 0.1306\n",
      "Epoch 16/20, Training Loss: 0.1252, Validation Loss: 0.1263\n",
      "Epoch 17/20, Training Loss: 0.1189, Validation Loss: 0.1195\n",
      "Epoch 18/20, Training Loss: 0.1131, Validation Loss: 0.1192\n",
      "Epoch 19/20, Training Loss: 0.1084, Validation Loss: 0.1137\n",
      "Epoch 20/20, Training Loss: 0.1035, Validation Loss: 0.1104\n"
     ]
    },
    {
     "data": {
      "image/png": "[encoded data removed]",
      "text/plain": [
       "<Figure size 640x480 with 1 Axes>"
      ]
     },
     "metadata": {},
     "output_type": "display_data"
    }
   ],
   "source": [
    "in_features = X_train.shape[1]\n",
    "num_classes = y_train.unique().shape[0]\n",
    "num_units = 256\n",
    "num_epochs = 20\n",
    "learning_rate = 0.1\n",
    "\n",
    "model = MLPScratch(in_features, num_classes, num_units)\n",
    "optimizer = SGDScratch(model.parameters(), lr=learning_rate)\n",
    "criterion = CrossEntropyScratch(num_classes=num_classes)\n",
    "trainer = TrainerScratch(model, train_dataloader, val_dataloader, optimizer, criterion)\n",
    "trainer.fit(num_epochs=num_epochs)"
   ]
  },
  {
   "cell_type": "markdown",
   "metadata": {},
   "source": [
    "## Concise Implementation of MLP"
   ]
  },
  {
   "cell_type": "code",
   "execution_count": 10,
   "metadata": {},
   "outputs": [
    {
     "name": "stdout",
     "output_type": "stream",
     "text": [
      "Epoch 1/10, Training Loss: 2.2132, Validation Loss: 2.0059\n",
      "Epoch 2/10, Training Loss: 1.8369, Validation Loss: 1.7256\n",
      "Epoch 3/10, Training Loss: 1.7019, Validation Loss: 1.6716\n",
      "Epoch 4/10, Training Loss: 1.6690, Validation Loss: 1.6524\n",
      "Epoch 5/10, Training Loss: 1.6545, Validation Loss: 1.6424\n",
      "Epoch 6/10, Training Loss: 1.6458, Validation Loss: 1.6359\n",
      "Epoch 7/10, Training Loss: 1.6399, Validation Loss: 1.6316\n",
      "Epoch 8/10, Training Loss: 1.6353, Validation Loss: 1.6274\n",
      "Epoch 9/10, Training Loss: 1.6316, Validation Loss: 1.6243\n",
      "Epoch 10/10, Training Loss: 1.6102, Validation Loss: 1.5858\n"
     ]
    },
    {
     "data": {
      "image/png": "[encoded data removed]",
      "text/plain": [
       "<Figure size 640x480 with 1 Axes>"
      ]
     },
     "metadata": {},
     "output_type": "display_data"
    }
   ],
   "source": [
    "# Assuming X and y are your feature and target tensors\n",
    "# Split Data into Train and Test Sets\n",
    "train_dataset = TensorDataset(X_train, y_train)\n",
    "val_dataset = TensorDataset(X_val, y_val)\n",
    "\n",
    "# Define DataLoader\n",
    "batch_size = 256\n",
    "train_dataloader = DataLoader(train_dataset, batch_size=batch_size, shuffle=True)\n",
    "val_dataloader = DataLoader(val_dataset, batch_size=batch_size)\n",
    "\n",
    "# Define the Linear Regression Model\n",
    "class MLP(nn.Module):\n",
    "    def __init__(self, input_size, num_classes):\n",
    "        super(MLP, self).__init__()\n",
    "        self.linear1 = nn.Linear(input_size, num_units)\n",
    "        self.relu = nn.ReLU()\n",
    "        self.linear2 = nn.Linear(num_units, num_classes)\n",
    "        self.softmax = nn.Softmax(dim=1)\n",
    "\n",
    "    def forward(self, x):\n",
    "        out = self.linear1(x)\n",
    "        out = self.relu(out)\n",
    "        out = self.linear2(out)\n",
    "        out = self.softmax(out)\n",
    "        return out\n",
    "\n",
    "model = MLP(input_size=X_train.shape[1], num_classes=y_train.unique().shape[0])\n",
    "\n",
    "# Loss and Optimizer\n",
    "criterion = nn.CrossEntropyLoss()\n",
    "optimizer = optim.SGD(model.parameters(), lr=0.1)\n",
    "trainer = TrainerScratch(model, train_dataloader, val_dataloader, optimizer, criterion)\n",
    "trainer.fit(num_epochs=10)\n"
   ]
  }
 ],
 "metadata": {
  "kernelspec": {
   "display_name": "d2l",
   "language": "python",
   "name": "python3"
  },
  "language_info": {
   "codemirror_mode": {
    "name": "ipython",
    "version": 3
   },
   "file_extension": ".py",
   "mimetype": "text/x-python",
   "name": "python",
   "nbconvert_exporter": "python",
   "pygments_lexer": "ipython3",
   "version": "3.9.18"
  }
 },
 "nbformat": 4,
 "nbformat_minor": 2
}
