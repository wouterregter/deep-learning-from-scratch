{
 "cells": [
  {
   "cell_type": "markdown",
   "metadata": {},
   "source": [
    "## Setup"
   ]
  },
  {
   "cell_type": "code",
   "execution_count": 6,
   "metadata": {},
   "outputs": [],
   "source": [
    "import torch\n",
    "import torch.nn.functional as F\n",
    "from torch import nn\n",
    "import time\n",
    "import matplotlib.pyplot as plt"
   ]
  },
  {
   "cell_type": "markdown",
   "metadata": {},
   "source": [
    "## Max Pooling Operation"
   ]
  },
  {
   "cell_type": "code",
   "execution_count": 7,
   "metadata": {},
   "outputs": [],
   "source": [
    "def maxpool2d_simple(input, kernel_size=2, stride=2):\n",
    "\n",
    "    input_height, input_width = input.shape\n",
    "\n",
    "    output_height = (input_height - kernel_size) // stride + 1\n",
    "    output_width = (input_width - kernel_size) // stride + 1\n",
    "\n",
    "    output = torch.zeros(output_height, output_width)\n",
    "\n",
    "    for i in range(output_height):\n",
    "        for j in range(output_width):\n",
    "            output[i, j] = torch.max(\n",
    "                input[\n",
    "                    i * stride : i * stride + kernel_size,\n",
    "                    j * stride : j * stride + kernel_size,\n",
    "                ]\n",
    "            )\n",
    "\n",
    "    return output"
   ]
  },
  {
   "cell_type": "code",
   "execution_count": 8,
   "metadata": {},
   "outputs": [
    {
     "name": "stdout",
     "output_type": "stream",
     "text": [
      "Input Matrix:\n",
      "tensor([[6., 8.],\n",
      "        [9., 6.]])\n"
     ]
    }
   ],
   "source": [
    "input = torch.tensor([\n",
    "    [1, 3, 2, 4],\n",
    "    [5, 6, 8, 8],\n",
    "    [9, 7, 5, 6],\n",
    "    [8, 4, 3, 2]\n",
    "])\n",
    "\n",
    "print(\"Input Matrix:\")\n",
    "print(maxpool2d_simple(input))"
   ]
  },
  {
   "cell_type": "markdown",
   "metadata": {},
   "source": [
    "## Extended Implementation"
   ]
  },
  {
   "cell_type": "code",
   "execution_count": 9,
   "metadata": {},
   "outputs": [],
   "source": [
    "def maxpool2d(input, kernel_size=2, stride=2, padding=0):\n",
    "    batch_size, in_channels, in_height, in_width = input.shape\n",
    "    \n",
    "    # Calculate the output height and width\n",
    "    output_height = (in_height + 2 * padding - kernel_size) // stride + 1\n",
    "    output_width = (in_width + 2 * padding - kernel_size) // stride + 1\n",
    "    \n",
    "    # Pad the input\n",
    "    input_padded = F.pad(input, (padding, padding, padding, padding))\n",
    "    \n",
    "    # Initialize the unfolded tensor for all patches\n",
    "    unfolded_tensor = torch.zeros((batch_size, in_channels, kernel_size * kernel_size, output_height * output_width))\n",
    "    \n",
    "    # Extract patches\n",
    "    for i in range(output_height):\n",
    "        for j in range(output_width):\n",
    "            start_i = i * stride\n",
    "            start_j = j * stride\n",
    "            end_i = start_i + kernel_size\n",
    "            end_j = start_j + kernel_size\n",
    "            patches = input_padded[:, :, start_i:end_i, start_j:end_j]\n",
    "            unfolded_tensor[:, :, :, i * output_width + j] = patches.reshape(batch_size, in_channels, -1)\n",
    "    \n",
    "    # Perform max pooling\n",
    "    pooled_output = unfolded_tensor.max(dim=2)[0]\n",
    "    \n",
    "    # Reshape the pooled output to the expected output shape\n",
    "    pooled_output = pooled_output.view(batch_size, in_channels, output_height, output_width)\n",
    "    \n",
    "    return pooled_output"
   ]
  },
  {
   "cell_type": "markdown",
   "metadata": {},
   "source": [
    "## Checking the implementations"
   ]
  },
  {
   "cell_type": "code",
   "execution_count": 10,
   "metadata": {},
   "outputs": [
    {
     "name": "stdout",
     "output_type": "stream",
     "text": [
      "Are the outputs close? True\n",
      "Vectorized Max Pooling Time: 0.217464 seconds\n",
      "PyTorch Max Pooling Time: 0.004998 seconds\n"
     ]
    }
   ],
   "source": [
    "# Generate a test input tensor\n",
    "input = torch.randn(64, 3, 128, 128)  # Example shape: batch_size=1, channels=3, height=32, width=32\n",
    "\n",
    "# Apply Vectorized Custom Max Pooling\n",
    "start_vectorized = time.time()\n",
    "custom_output = maxpool2d(input, kernel_size=2, stride=2)\n",
    "end_vectorized = time.time()\n",
    "\n",
    "# Apply PyTorch Max Pooling\n",
    "maxpool = nn.MaxPool2d(kernel_size=2, stride=2)\n",
    "start_pytorch = time.time()\n",
    "pytorch_output = maxpool(input)\n",
    "end_pytorch = time.time()\n",
    "\n",
    "# Compare Outputs\n",
    "are_close = torch.allclose(custom_output, pytorch_output, atol=1e-6)\n",
    "print(f\"Are the outputs close? {are_close}\")\n",
    "\n",
    "# Measure and Compare Performance\n",
    "print(f\"Vectorized Max Pooling Time: {end_vectorized - start_vectorized:.6f} seconds\")\n",
    "print(f\"PyTorch Max Pooling Time: {end_pytorch - start_pytorch:.6f} seconds\")"
   ]
  }
 ],
 "metadata": {
  "kernelspec": {
   "display_name": "d2l",
   "language": "python",
   "name": "python3"
  },
  "language_info": {
   "codemirror_mode": {
    "name": "ipython",
    "version": 3
   },
   "file_extension": ".py",
   "mimetype": "text/x-python",
   "name": "python",
   "nbconvert_exporter": "python",
   "pygments_lexer": "ipython3",
   "version": "3.8.18"
  }
 },
 "nbformat": 4,
 "nbformat_minor": 2
}
