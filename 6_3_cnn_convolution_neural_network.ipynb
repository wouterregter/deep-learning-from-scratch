{
 "cells": [
  {
   "cell_type": "markdown",
   "metadata": {},
   "source": [
    "## Setup"
   ]
  },
  {
   "cell_type": "code",
   "execution_count": 1,
   "metadata": {},
   "outputs": [],
   "source": [
    "import torch\n",
    "from torch import nn\n",
    "from torchvision import datasets, transforms\n",
    "from torch.utils.data import DataLoader, TensorDataset\n",
    "import torch.optim as optim\n",
    "import torch.nn.functional as F\n",
    "\n",
    "from src.data import DataLoaderScratch\n",
    "from src.trainer import TrainerScratch\n",
    "from src.optimizers import SGDScratch\n",
    "from src.losses import CrossEntropyScratch\n",
    "from src.metrics import AccuracyScratch\n",
    "from src.functions import conv2d, maxpool2d"
   ]
  },
  {
   "cell_type": "markdown",
   "metadata": {},
   "source": [
    "## Data Loading and Preprocessing"
   ]
  },
  {
   "cell_type": "code",
   "execution_count": 2,
   "metadata": {},
   "outputs": [],
   "source": [
    "transform = transforms.Compose(\n",
    "    [transforms.ToTensor(), transforms.Normalize((0.5,), (0.5,))]\n",
    ")\n",
    "mnist_trainset = datasets.MNIST(\n",
    "    root=\"./data\", train=True, download=True, transform=transform\n",
    ")\n",
    "mnist_testset = datasets.MNIST(\n",
    "    root=\"./data\", train=False, download=True, transform=transform\n",
    ")\n",
    "\n",
    "# Transform the training data\n",
    "X_train = mnist_trainset.data[:1000, :, :].float() / 255.0\n",
    "# Add single dimension for the input channel\n",
    "X_train = X_train.unsqueeze(1)\n",
    "y_train = mnist_trainset.targets[:1000]\n",
    "\n",
    "# Transform the test data\n",
    "X_val = mnist_testset.data[:100, :, :].float() / 255.0\n",
    "# Add single dimension for the input channel\n",
    "X_val = X_val.unsqueeze(1)\n",
    "y_val = mnist_testset.targets[:100]\n",
    "\n",
    "train_dataloader = DataLoaderScratch(X_train, y_train, batch_size=256, shuffle=True)\n",
    "val_dataloader = DataLoaderScratch(X_val, y_val, batch_size=256, shuffle=False)"
   ]
  },
  {
   "cell_type": "markdown",
   "metadata": {},
   "source": [
    "### Single Batch Iteration"
   ]
  },
  {
   "cell_type": "code",
   "execution_count": 3,
   "metadata": {},
   "outputs": [],
   "source": [
    "def relu(x):\n",
    "    out = torch.maximum(x, torch.zeros(1))\n",
    "    return out\n",
    "\n",
    "def softmax(X):\n",
    "    X_exp = torch.exp(X)\n",
    "    X_softmax = X_exp / X_exp.sum(axis=1, keepdims=True)\n",
    "    return X_softmax\n",
    "\n",
    "def log_loss(y_pred, y):\n",
    "    y_one_hot = nn.functional.one_hot(y)\n",
    "    loss = -(y_one_hot * torch.log(y_pred)).sum(axis=1).mean()\n",
    "    return loss\n",
    "\n",
    "def calculate_same_padding(input_size, kernel_size, stride):\n",
    "    if input_size % stride == 0:\n",
    "        pad_total = max(kernel_size - stride, 0)\n",
    "    else:\n",
    "        pad_total = max(kernel_size - (input_size % stride), 0)\n",
    "    padding = pad_total // 2\n",
    "    return padding"
   ]
  },
  {
   "cell_type": "code",
   "execution_count": 4,
   "metadata": {},
   "outputs": [],
   "source": [
    "in_channels = 1\n",
    "filter_size = 3 # Filter size for all layers\n",
    "\n",
    "num_classes = 10\n",
    "\n",
    "# CONV + POOL Layer 1 (sees 1x28x28 and outputs 16x14x14)\n",
    "W1 = nn.Parameter(torch.randn(16, in_channels, filter_size, filter_size) * 0.1)\n",
    "b1 =  nn.Parameter(torch.zeros(size=(1, 16, 1, 1)))\n",
    "\n",
    "# CONV + POOL Layer 2 (sees 16x14x14 and outputs 32x7x7)\n",
    "W2 = nn.Parameter(torch.randn(32, 16, filter_size, filter_size) * 0.1)\n",
    "b2 = nn.Parameter(torch.zeros(size=(1, 32, 1, 1)))\n",
    "\n",
    "# FC Layer (sees 32x7x7 and outputs 32*7*7x10)\n",
    "W3 = nn.Parameter(torch.randn(32 * 7 * 7, num_classes) * 0.1)\n",
    "b3 = nn.Parameter(torch.zeros(num_classes))\n",
    "\n",
    "parameters = [W1, b1, W2, b2, W3, b3]\n",
    "optimizer = SGDScratch(parameters, lr=0.1)"
   ]
  },
  {
   "cell_type": "code",
   "execution_count": 5,
   "metadata": {},
   "outputs": [
    {
     "name": "stdout",
     "output_type": "stream",
     "text": [
      "2.285222887992859\n",
      "2.1936349272727966\n",
      "2.0781480073928833\n"
     ]
    }
   ],
   "source": [
    "num_epochs = 3\n",
    "for epoch in range(num_epochs):\n",
    "    total_loss = 0\n",
    "    for batch in train_dataloader:\n",
    "        inputs, targets = batch\n",
    "\n",
    "        batch_size, in_channels, input_height, input_width = inputs.shape\n",
    "    \n",
    "        # Zero gradients\n",
    "        optimizer.zero_grad()\n",
    "    \n",
    "        # CONV + POOL Layer 1 (sees 1x28x28 and outputs 16x14x14)\n",
    "        padding = calculate_same_padding(input_size=28, kernel_size=3, stride=1)\n",
    "        Z1 = conv2d(inputs, W1, padding=padding) + b1\n",
    "        A1 = relu(Z1)\n",
    "        P1 = maxpool2d(A1, kernel_size=2, stride=2)\n",
    "    \n",
    "        # CONV + POOL Layer 2 (sees 16x14x14 and outputs 32x7x7)\n",
    "        padding = calculate_same_padding(input_size=14, kernel_size=3, stride=1)\n",
    "        Z2 = conv2d(P1, W2, padding=padding) + b2\n",
    "        A2 = relu(Z2)\n",
    "        P2 = maxpool2d(A2, kernel_size=2, stride=2)\n",
    "    \n",
    "        # FC Layer (sees 32x7x7 and outputs 32*7*7x10)\n",
    "        P2_flat = P2.flatten(start_dim=1)\n",
    "        Z3 = P2_flat @ W3 + b3\n",
    "        y_pred = softmax(Z3)\n",
    "    \n",
    "        # Calculate Loss\n",
    "        loss = log_loss(y_pred, targets)\n",
    "    \n",
    "        # Compute gradients\n",
    "        loss.backward()\n",
    "    \n",
    "        # Update parameters\n",
    "        optimizer.step()\n",
    "        total_loss += loss.item()\n",
    "\n",
    "    print(total_loss / len(train_dataloader))"
   ]
  },
  {
   "cell_type": "markdown",
   "metadata": {},
   "source": [
    "### Define Training Loop and Model"
   ]
  },
  {
   "cell_type": "code",
   "execution_count": 6,
   "metadata": {},
   "outputs": [],
   "source": [
    "class CNNScratch(nn.Module):\n",
    "    def __init__(self, in_channels, input_height, input_width, filter_size, num_classes):\n",
    "        super().__init__()\n",
    "        self.input_height = input_height\n",
    "        self.filter_size = filter_size\n",
    "        out_channels1 = 16 # Number of filters in the first conv layer\n",
    "        self.W1 = nn.Parameter(torch.randn(out_channels1, in_channels, filter_size, filter_size) * 0.1)\n",
    "        self.b1 =  nn.Parameter(torch.zeros(size=(1, out_channels1, 1, 1)))\n",
    "        out_channels2 = 32 # Number of filters in the second conv layer\n",
    "        self.W2 = nn.Parameter(torch.randn(out_channels2, out_channels1, filter_size, filter_size) * 0.1)\n",
    "        self.b2 = nn.Parameter(torch.zeros(size=(1, out_channels2, 1, 1)))\n",
    "        self.W3 = nn.Parameter(torch.randn(out_channels2 * int(input_height/4 * input_width/4), num_classes) * 0.1)\n",
    "        self.b3 = nn.Parameter(torch.zeros(num_classes))\n",
    "\n",
    "    def forward(self, X):\n",
    "        # Forward pass\n",
    "        pool_size = 2\n",
    "\n",
    "        # CONV + POOL Layer 1 (sees 1x28x28 and outputs 16x14x14)\n",
    "        padding = calculate_same_padding(input_size=28, kernel_size=3, stride=1)\n",
    "        Z1 = conv2d(X, self.W1, padding=padding) + self.b1\n",
    "        A1 = relu(Z1)\n",
    "        P1 = maxpool2d(A1, kernel_size=2, stride=2)\n",
    "    \n",
    "        # CONV + POOL Layer 2 (sees 16x14x14 and outputs 32x7x7)\n",
    "        padding = calculate_same_padding(input_size=14, kernel_size=3, stride=1)\n",
    "        Z2 = conv2d(P1, self.W2, padding=padding) + self.b2\n",
    "        A2 = relu(Z2)\n",
    "        P2 = maxpool2d(A2, kernel_size=2, stride=2)\n",
    "    \n",
    "        # FC Layer (sees 32x7x7 and outputs 32*7*7x10)\n",
    "        P2_flat = P2.flatten(start_dim=1)\n",
    "        Z3 = P2_flat @ self.W3 + self.b3\n",
    "        y_pred = softmax(Z3)\n",
    "        return y_pred\n",
    "\n",
    "    def parameters(self):\n",
    "        return [self.W1, self.b1, self.W2, self.b2, self.W3, self.b3]"
   ]
  },
  {
   "cell_type": "code",
   "execution_count": 7,
   "metadata": {},
   "outputs": [
    {
     "name": "stdout",
     "output_type": "stream",
     "text": [
      "Epoch 1/20, Training Loss: 2.1438, Validation Loss: 1.8239\n",
      "Validation accuracy: 0.3500\n"
     ]
    }
   ],
   "source": [
    "input_height, input_width = 28, 28\n",
    "in_channels = 1\n",
    "filter_size = 3 # Filter size for all layers\n",
    "num_classes = y_train.unique().shape[0]\n",
    "\n",
    "num_epochs = 20\n",
    "learning_rate = 0.2\n",
    "\n",
    "model = CNNScratch(in_channels, input_height, input_width, filter_size, num_classes)\n",
    "optimizer = SGDScratch(model.parameters(), lr=learning_rate)\n",
    "criterion = CrossEntropyScratch(num_classes=num_classes)\n",
    "metrics = {'accuracy': AccuracyScratch()}\n",
    "trainer = TrainerScratch(model, train_dataloader, val_dataloader, optimizer, criterion, custom_metrics=metrics)\n",
    "trainer.fit(num_epochs=num_epochs)"
   ]
  },
  {
   "cell_type": "markdown",
   "metadata": {},
   "source": [
    "## Concise Implementation of CNN"
   ]
  },
  {
   "cell_type": "code",
   "execution_count": null,
   "metadata": {},
   "outputs": [
    {
     "name": "stdout",
     "output_type": "stream",
     "text": [
      "Epoch 1/20, Training Loss: 2.2703, Validation Loss: 2.2044\n",
      "Validation accuracy: 0.4300\n",
      "Epoch 2/20, Training Loss: 2.1353, Validation Loss: 1.9766\n",
      "Validation accuracy: 0.4700\n",
      "Epoch 3/20, Training Loss: 1.7704, Validation Loss: 1.7825\n",
      "Validation accuracy: 0.4900\n",
      "Epoch 4/20, Training Loss: 1.7789, Validation Loss: 1.1371\n",
      "Validation accuracy: 0.7000\n",
      "Epoch 5/20, Training Loss: 1.4560, Validation Loss: 1.7948\n",
      "Validation accuracy: 0.5600\n",
      "Epoch 6/20, Training Loss: 1.4385, Validation Loss: 0.8319\n",
      "Validation accuracy: 0.7600\n",
      "Epoch 7/20, Training Loss: 0.9231, Validation Loss: 1.2900\n",
      "Validation accuracy: 0.6400\n",
      "Epoch 8/20, Training Loss: 0.9161, Validation Loss: 0.6324\n",
      "Validation accuracy: 0.8200\n",
      "Epoch 9/20, Training Loss: 0.5597, Validation Loss: 0.5607\n",
      "Validation accuracy: 0.8100\n",
      "Epoch 10/20, Training Loss: 0.4115, Validation Loss: 0.4607\n",
      "Validation accuracy: 0.8400\n",
      "Epoch 11/20, Training Loss: 0.4604, Validation Loss: 0.5141\n",
      "Validation accuracy: 0.8500\n",
      "Epoch 12/20, Training Loss: 0.3650, Validation Loss: 0.3469\n",
      "Validation accuracy: 0.8900\n",
      "Epoch 13/20, Training Loss: 0.3020, Validation Loss: 0.3458\n",
      "Validation accuracy: 0.9000\n",
      "Epoch 14/20, Training Loss: 0.2684, Validation Loss: 0.2627\n",
      "Validation accuracy: 0.9200\n",
      "Epoch 15/20, Training Loss: 0.2416, Validation Loss: 0.2539\n",
      "Validation accuracy: 0.9300\n",
      "Epoch 16/20, Training Loss: 0.2596, Validation Loss: 0.2290\n",
      "Validation accuracy: 0.9400\n",
      "Epoch 17/20, Training Loss: 0.2544, Validation Loss: 0.2382\n",
      "Validation accuracy: 0.9300\n",
      "Epoch 18/20, Training Loss: 0.2040, Validation Loss: 0.1807\n",
      "Validation accuracy: 0.9600\n",
      "Epoch 19/20, Training Loss: 0.2114, Validation Loss: 0.1835\n",
      "Validation accuracy: 0.9500\n",
      "Epoch 20/20, Training Loss: 0.1825, Validation Loss: 0.1726\n",
      "Validation accuracy: 0.9500\n"
     ]
    },
    {
     "data": {
      "image/png": "[encoded data removed]",
      "text/plain": [
       "<Figure size 640x480 with 1 Axes>"
      ]
     },
     "metadata": {},
     "output_type": "display_data"
    }
   ],
   "source": [
    "# Assuming X and y are your feature and target tensors\n",
    "# Split Data into Train and Test Sets\n",
    "train_dataset = TensorDataset(X_train, y_train)\n",
    "val_dataset = TensorDataset(X_val, y_val)\n",
    "\n",
    "# Define DataLoader\n",
    "batch_size = 256\n",
    "train_dataloader = DataLoader(train_dataset, batch_size=batch_size, shuffle=True)\n",
    "val_dataloader = DataLoader(val_dataset, batch_size=batch_size)\n",
    "\n",
    "class CNN(nn.Module):\n",
    "    def __init__(self, num_classes=10):\n",
    "        super(CNN, self).__init__()\n",
    "\n",
    "        # CONV + POOL Layer 1 (sees 1x28x28 and outputs 16x14x14)\n",
    "        padding = calculate_same_padding(input_size=28, kernel_size=3, stride=1)\n",
    "        self.conv1 = nn.Conv2d(in_channels=1, out_channels=16, kernel_size=3, padding=padding)\n",
    "        self.pool1 = nn.MaxPool2d(kernel_size=2, stride=2)\n",
    "        \n",
    "        # CONV + POOL Layer 2 (sees 16x14x14 and outputs 32x7x7)\n",
    "        padding = calculate_same_padding(input_size=14, kernel_size=3, stride=1)\n",
    "        self.conv2 = nn.Conv2d(in_channels=16, out_channels=32, kernel_size=3, padding=padding)\n",
    "        self.pool2 = nn.MaxPool2d(kernel_size=2, stride=2)\n",
    "        \n",
    "        # FC Layer (sees 32x7x7 and outputs 32*7*7x10)\n",
    "        self.fc1 = nn.Linear(32 * 7 * 7, num_classes)\n",
    "\n",
    "\n",
    "    def forward(self, x):\n",
    "        # CONV + POOL Layer 1 (sees 1x28x28 and outputs 16x14x14)\n",
    "        x = F.relu(self.conv1(x))\n",
    "        x = self.pool1(x)\n",
    "\n",
    "        # CONV + POOL Layer 2 (sees 16x14x14 and outputs 32x7x7)\n",
    "        x = F.relu(self.conv2(x))\n",
    "        x = self.pool2(x)\n",
    "\n",
    "        # FC Layer (sees 32x7x7 and outputs 32*7*7x10)\n",
    "        x = x.flatten(start_dim=1)\n",
    "        x = self.fc1(x)\n",
    "\n",
    "        return x\n",
    "\n",
    "num_classes = y_train.unique().shape[0]\n",
    "model = CNN(num_classes)\n",
    "\n",
    "# Loss and Optimizer\n",
    "criterion = nn.CrossEntropyLoss()\n",
    "optimizer = optim.SGD(model.parameters(), lr=0.2)\n",
    "metrics = {'accuracy':AccuracyScratch()}\n",
    "trainer = TrainerScratch(model, train_dataloader, val_dataloader, optimizer, criterion, custom_metrics=metrics)\n",
    "trainer.fit(num_epochs=20)"
   ]
  },
  {
   "cell_type": "code",
   "execution_count": null,
   "metadata": {},
   "outputs": [
    {
     "name": "stdout",
     "output_type": "stream",
     "text": [
      "Training Accuracy: 95.40%\n",
      "Validation Accuracy: 95.00%\n"
     ]
    }
   ],
   "source": [
    "# Assuming the AccuracyScratch class is defined as per your snippet\n",
    "# Ensure your model, train_loader, and val_loader are defined\n",
    "\n",
    "# Initialize accuracy trackers\n",
    "train_accuracy = AccuracyScratch()\n",
    "val_accuracy = AccuracyScratch()\n",
    "\n",
    "# Set model to evaluation mode\n",
    "model.eval()\n",
    "\n",
    "# No gradient calculation needed for evaluation\n",
    "with torch.no_grad():\n",
    "    # Calculate training accuracy\n",
    "    for inputs, labels in train_dataloader:\n",
    "        outputs = model(inputs)\n",
    "        train_accuracy.update(outputs, labels)\n",
    "    \n",
    "    train_acc = train_accuracy.compute()\n",
    "    train_accuracy.reset()  # Reset for future use if needed\n",
    "\n",
    "    # Calculate validation accuracy\n",
    "    for inputs, labels in val_dataloader:\n",
    "        outputs = model(inputs)\n",
    "        val_accuracy.update(outputs, labels)\n",
    "    \n",
    "    val_acc = val_accuracy.compute()\n",
    "    val_accuracy.reset()  # Reset for future use if needed\n",
    "\n",
    "print(f\"Training Accuracy: {train_acc*100:.2f}%\")\n",
    "print(f\"Validation Accuracy: {val_acc*100:.2f}%\")\n"
   ]
  }
 ],
 "metadata": {
  "kernelspec": {
   "display_name": "d2l",
   "language": "python",
   "name": "python3"
  },
  "language_info": {
   "codemirror_mode": {
    "name": "ipython",
    "version": 3
   },
   "file_extension": ".py",
   "mimetype": "text/x-python",
   "name": "python",
   "nbconvert_exporter": "python",
   "pygments_lexer": "ipython3",
   "version": "3.8.18"
  }
 },
 "nbformat": 4,
 "nbformat_minor": 2
}
