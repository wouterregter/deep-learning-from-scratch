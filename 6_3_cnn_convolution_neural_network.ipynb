{
 "cells": [
  {
   "cell_type": "markdown",
   "metadata": {},
   "source": [
    "## Setup"
   ]
  },
  {
   "cell_type": "code",
   "execution_count": 1,
   "metadata": {},
   "outputs": [],
   "source": [
    "import torch\n",
    "from torch import nn\n",
    "from torchvision import datasets, transforms\n",
    "import torch.optim as optim\n",
    "import torch.nn.functional as F\n",
    "\n",
    "from src.data import DataLoader\n",
    "from src.trainer import Trainer\n",
    "from src.optimizers import SGD\n",
    "from src.metrics import Accuracy\n",
    "from src.losses import CrossEntropyLoss"
   ]
  },
  {
   "cell_type": "markdown",
   "metadata": {},
   "source": [
    "## Data Loading and Preprocessing"
   ]
  },
  {
   "cell_type": "code",
   "execution_count": 2,
   "metadata": {},
   "outputs": [],
   "source": [
    "transform = transforms.Compose(\n",
    "    [transforms.ToTensor(), transforms.Normalize((0.5,), (0.5,))]\n",
    ")\n",
    "mnist_trainset = datasets.MNIST(\n",
    "    root=\"./data\", train=True, download=True, transform=transform\n",
    ")\n",
    "mnist_testset = datasets.MNIST(\n",
    "    root=\"./data\", train=False, download=True, transform=transform\n",
    ")\n",
    "\n",
    "# Transform the training data\n",
    "X_train = mnist_trainset.data.float() / 255.0\n",
    "# Add single dimension for the input channel\n",
    "X_train = X_train.unsqueeze(1)\n",
    "y_train = mnist_trainset.targets\n",
    "\n",
    "# Transform the test data\n",
    "X_val = mnist_testset.data.float() / 255.0\n",
    "# Add single dimension for the input channel\n",
    "X_val = X_val.unsqueeze(1)\n",
    "y_val = mnist_testset.targets\n",
    "\n",
    "train_dataloader = DataLoader(X_train, y_train, batch_size=256, shuffle=True)\n",
    "val_dataloader = DataLoader(X_val, y_val, batch_size=256, shuffle=False)"
   ]
  },
  {
   "cell_type": "markdown",
   "metadata": {},
   "source": [
    "### Single Batch Iteration"
   ]
  },
  {
   "cell_type": "code",
   "execution_count": 3,
   "metadata": {},
   "outputs": [],
   "source": [
    "in_channels = 1\n",
    "filter_size = 3 # Filter size for all layers\n",
    "\n",
    "num_classes = 10\n",
    "\n",
    "# CONV + POOL Layer 1 (sees 1x28x28 and outputs 16x14x14)\n",
    "W1 = nn.Parameter(torch.randn(16, in_channels, filter_size, filter_size) * 0.1)\n",
    "b1 =  nn.Parameter(torch.zeros(size=(1, 16, 1, 1)))\n",
    "\n",
    "# CONV + POOL Layer 2 (sees 16x14x14 and outputs 32x7x7)\n",
    "W2 = nn.Parameter(torch.randn(32, 16, filter_size, filter_size) * 0.1)\n",
    "b2 = nn.Parameter(torch.zeros(size=(1, 32, 1, 1)))\n",
    "\n",
    "# FC Layer (sees 32x7x7 and outputs 32*7*7x10)\n",
    "W3 = nn.Parameter(torch.randn(32 * 7 * 7, num_classes) * 0.1)\n",
    "b3 = nn.Parameter(torch.zeros(num_classes))\n",
    "\n",
    "parameters = [W1, b1, W2, b2, W3, b3]\n",
    "optimizer = SGD(parameters, lr=0.1)\n",
    "cross_entropy = CrossEntropyLoss()\n",
    "padding = (filter_size - 1) // 2"
   ]
  },
  {
   "cell_type": "code",
   "execution_count": 5,
   "metadata": {},
   "outputs": [
    {
     "name": "stderr",
     "output_type": "stream",
     "text": [
      "C:\\Users\\woute\\AppData\\Local\\Temp\\ipykernel_19872\\303424511.py:23: UserWarning: Implicit dimension choice for softmax has been deprecated. Change the call to include dim=X as an argument.\n",
      "  y_pred = F.softmax(Z3)\n"
     ]
    },
    {
     "name": "stdout",
     "output_type": "stream",
     "text": [
      "0.5362814226049057\n",
      "0.15864925772902813\n",
      "0.11597979033881045\n"
     ]
    }
   ],
   "source": [
    "num_epochs = 3\n",
    "for epoch in range(num_epochs):\n",
    "    total_loss = 0\n",
    "    for batch in train_dataloader:\n",
    "        inputs, targets = batch\n",
    "    \n",
    "        # Zero gradients\n",
    "        optimizer.zero_grad()\n",
    "    \n",
    "        # CONV + POOL Layer 1 (sees 1x28x28 and outputs 16x14x14)\n",
    "        Z1 = F.conv2d(inputs, W1, padding=padding) + b1\n",
    "        A1 = F.relu(Z1)\n",
    "        P1 = F.max_pool2d(A1, kernel_size=2, stride=2)\n",
    "    \n",
    "        # CONV + POOL Layer 2 (sees 16x14x14 and outputs 32x7x7)\n",
    "        Z2 = F.conv2d(P1, W2, padding=padding) + b2\n",
    "        A2 = F.relu(Z2)\n",
    "        P2 = F.max_pool2d(A2, kernel_size=2, stride=2)\n",
    "    \n",
    "        # FC Layer (sees 32x7x7 and outputs 32*7*7x10)\n",
    "        P2_flat = P2.flatten(start_dim=1)\n",
    "        Z3 = P2_flat @ W3 + b3\n",
    "        y_pred = F.softmax(Z3)\n",
    "    \n",
    "        # Calculate Loss\n",
    "        loss = cross_entropy(y_pred, targets)\n",
    "    \n",
    "        # Compute gradients\n",
    "        loss.backward()\n",
    "    \n",
    "        # Update parameters\n",
    "        optimizer.step()\n",
    "        total_loss += loss.item()\n",
    "\n",
    "    print(total_loss / len(train_dataloader))"
   ]
  },
  {
   "cell_type": "markdown",
   "metadata": {},
   "source": [
    "### Define Training Loop and Model"
   ]
  },
  {
   "cell_type": "code",
   "execution_count": 6,
   "metadata": {},
   "outputs": [],
   "source": [
    "class CNN(nn.Module):\n",
    "    def __init__(self, in_channels, input_height, input_width, filter_size, num_classes):\n",
    "        super().__init__()\n",
    "        self.input_height = input_height\n",
    "        self.filter_size = filter_size\n",
    "\n",
    "        # CONV + POOL Layer 1 (sees 1x28x28 and outputs 16x14x14)\n",
    "        out_channels1 = 16 # Number of filters in the first conv layer\n",
    "        self.W1 = nn.Parameter(torch.randn(out_channels1, in_channels, filter_size, filter_size) * 0.1)\n",
    "        self.b1 =  nn.Parameter(torch.zeros(size=(1, out_channels1, 1, 1)))\n",
    "\n",
    "        # CONV + POOL Layer 2 (sees 16x14x14 and outputs 32x7x7)\n",
    "        out_channels2 = 32 # Number of filters in the second conv layer\n",
    "        self.W2 = nn.Parameter(torch.randn(out_channels2, out_channels1, filter_size, filter_size) * 0.1)\n",
    "        self.b2 = nn.Parameter(torch.zeros(size=(1, out_channels2, 1, 1)))\n",
    "\n",
    "        # FC Layer (sees 32x7x7 and outputs 32*7*7x10)\n",
    "        self.W3 = nn.Parameter(torch.randn(out_channels2 * int(input_height/4 * input_width/4), num_classes) * 0.1)\n",
    "        self.b3 = nn.Parameter(torch.zeros(num_classes))\n",
    "\n",
    "    def forward(self, X):\n",
    "        # Forward pass\n",
    "\n",
    "        # CONV + POOL Layer 1 (sees 1x28x28 and outputs 16x14x14)\n",
    "        padding = (self.filter_size - 1) // 2\n",
    "        Z1 = F.conv2d(X, self.W1, padding=padding) + self.b1\n",
    "        A1 = F.relu(Z1)\n",
    "        P1 = F.max_pool2d(A1, kernel_size=2, stride=2)\n",
    "    \n",
    "        # CONV + POOL Layer 2 (sees 16x14x14 and outputs 32x7x7)\n",
    "        Z2 = F.conv2d(P1, self.W2, padding=padding) + self.b2\n",
    "        A2 = F.relu(Z2)\n",
    "        P2 = F.max_pool2d(A2, kernel_size=2, stride=2)\n",
    "    \n",
    "        # FC Layer (sees 32x7x7 and outputs 32*7*7x10)\n",
    "        P2_flat = P2.flatten(start_dim=1)\n",
    "        Z3 = P2_flat @ self.W3 + self.b3\n",
    "        y_pred = F.softmax(Z3)\n",
    "        return y_pred\n",
    "\n",
    "    def parameters(self):\n",
    "        return [self.W1, self.b1, self.W2, self.b2, self.W3, self.b3]"
   ]
  },
  {
   "cell_type": "code",
   "execution_count": 7,
   "metadata": {},
   "outputs": [
    {
     "name": "stderr",
     "output_type": "stream",
     "text": [
      "C:\\Users\\woute\\AppData\\Local\\Temp\\ipykernel_19872\\2405205021.py:38: UserWarning: Implicit dimension choice for softmax has been deprecated. Change the call to include dim=X as an argument.\n",
      "  y_pred = F.softmax(Z3)\n"
     ]
    },
    {
     "name": "stdout",
     "output_type": "stream",
     "text": [
      "Epoch 1/10, Training Loss: 0.6443, Validation Loss: 0.2675\n",
      "Validation accuracy: 0.9197\n",
      "Epoch 2/10, Training Loss: 0.2279, Validation Loss: 0.1886\n",
      "Validation accuracy: 0.9396\n",
      "Epoch 3/10, Training Loss: 0.1647, Validation Loss: 0.1658\n",
      "Validation accuracy: 0.9497\n",
      "Epoch 4/10, Training Loss: 0.1319, Validation Loss: 0.1117\n",
      "Validation accuracy: 0.9659\n",
      "Epoch 5/10, Training Loss: 0.1115, Validation Loss: 0.1036\n",
      "Validation accuracy: 0.9680\n",
      "Epoch 6/10, Training Loss: 0.0988, Validation Loss: 0.0885\n",
      "Validation accuracy: 0.9736\n",
      "Epoch 7/10, Training Loss: 0.0892, Validation Loss: 0.0794\n",
      "Validation accuracy: 0.9745\n",
      "Epoch 8/10, Training Loss: 0.0818, Validation Loss: 0.0739\n",
      "Validation accuracy: 0.9768\n",
      "Epoch 9/10, Training Loss: 0.0762, Validation Loss: 0.0838\n",
      "Validation accuracy: 0.9740\n",
      "Epoch 10/10, Training Loss: 0.0720, Validation Loss: 0.0732\n",
      "Validation accuracy: 0.9765\n"
     ]
    },
    {
     "data": {
      "image/png": "[encoded data removed]",
      "text/plain": [
       "<Figure size 640x480 with 1 Axes>"
      ]
     },
     "metadata": {},
     "output_type": "display_data"
    }
   ],
   "source": [
    "input_height, input_width = 28, 28\n",
    "in_channels = 1\n",
    "filter_size = 3 # Filter size for all layers\n",
    "num_classes = y_train.unique().shape[0]\n",
    "\n",
    "num_epochs = 10\n",
    "learning_rate = 0.05\n",
    "\n",
    "model = CNN(in_channels, input_height, input_width, filter_size, num_classes)\n",
    "optimizer = SGD(model.parameters(), lr=learning_rate)\n",
    "criterion = CrossEntropyLoss()\n",
    "metrics = {'accuracy': Accuracy()}\n",
    "trainer = Trainer(model, train_dataloader, val_dataloader, optimizer, criterion, custom_metrics=metrics)\n",
    "trainer.fit(num_epochs=num_epochs)"
   ]
  },
  {
   "cell_type": "markdown",
   "metadata": {},
   "source": [
    "## Concise Implementation of CNN"
   ]
  },
  {
   "cell_type": "code",
   "execution_count": null,
   "metadata": {},
   "outputs": [
    {
     "name": "stdout",
     "output_type": "stream",
     "text": [
      "Epoch 1/10, Training Loss: 0.7839, Validation Loss: 0.3192\n",
      "Validation accuracy: 0.9045\n",
      "Epoch 2/10, Training Loss: 0.2478, Validation Loss: 0.1882\n",
      "Validation accuracy: 0.9445\n",
      "Epoch 3/10, Training Loss: 0.1649, Validation Loss: 0.1395\n",
      "Validation accuracy: 0.9606\n",
      "Epoch 4/10, Training Loss: 0.1276, Validation Loss: 0.1027\n",
      "Validation accuracy: 0.9690\n",
      "Epoch 5/10, Training Loss: 0.1062, Validation Loss: 0.0973\n",
      "Validation accuracy: 0.9715\n",
      "Epoch 6/10, Training Loss: 0.0930, Validation Loss: 0.0826\n",
      "Validation accuracy: 0.9739\n",
      "Epoch 7/10, Training Loss: 0.0841, Validation Loss: 0.0730\n",
      "Validation accuracy: 0.9767\n",
      "Epoch 8/10, Training Loss: 0.0777, Validation Loss: 0.0799\n",
      "Validation accuracy: 0.9741\n",
      "Epoch 9/10, Training Loss: 0.0717, Validation Loss: 0.0655\n",
      "Validation accuracy: 0.9782\n",
      "Epoch 10/10, Training Loss: 0.0678, Validation Loss: 0.0645\n",
      "Validation accuracy: 0.9781\n"
     ]
    },
    {
     "data": {
      "image/png": "[encoded data removed]",
      "text/plain": [
       "<Figure size 640x480 with 1 Axes>"
      ]
     },
     "metadata": {},
     "output_type": "display_data"
    }
   ],
   "source": [
    "# Assuming X and y are your feature and target tensors\n",
    "# Split Data into Train and Test Sets\n",
    "train_dataset = torch.utils.data.TensorDataset(X_train, y_train)\n",
    "val_dataset = torch.utils.data.TensorDataset(X_val, y_val)\n",
    "\n",
    "# Define DataLoader\n",
    "batch_size = 256\n",
    "train_dataloader = torch.utils.data.DataLoader(train_dataset, batch_size=batch_size, shuffle=True)\n",
    "val_dataloader = torch.utils.data.DataLoader(val_dataset, batch_size=batch_size)\n",
    "\n",
    "class CNN(nn.Module):\n",
    "    def __init__(self, num_classes=10):\n",
    "        super(CNN, self).__init__()\n",
    "\n",
    "        # CONV + POOL Layer 1 (sees 1x28x28 and outputs 16x14x14)\n",
    "        padding = (3 - 1) // 2\n",
    "        self.conv1 = nn.Conv2d(in_channels=1, out_channels=16, kernel_size=3, padding=padding)\n",
    "        self.pool1 = nn.MaxPool2d(kernel_size=2, stride=2)\n",
    "        \n",
    "        # CONV + POOL Layer 2 (sees 16x14x14 and outputs 32x7x7)\n",
    "        self.conv2 = nn.Conv2d(in_channels=16, out_channels=32, kernel_size=3, padding=padding)\n",
    "        self.pool2 = nn.MaxPool2d(kernel_size=2, stride=2)\n",
    "        \n",
    "        # FC Layer (sees 32x7x7 and outputs 32*7*7x10)\n",
    "        self.fc1 = nn.Linear(32 * 7 * 7, num_classes)\n",
    "\n",
    "\n",
    "    def forward(self, x):\n",
    "        # CONV + POOL Layer 1 (sees 1x28x28 and outputs 16x14x14)\n",
    "        x = F.relu(self.conv1(x))\n",
    "        x = self.pool1(x)\n",
    "\n",
    "        # CONV + POOL Layer 2 (sees 16x14x14 and outputs 32x7x7)\n",
    "        x = F.relu(self.conv2(x))\n",
    "        x = self.pool2(x)\n",
    "\n",
    "        # FC Layer (sees 32x7x7 and outputs 32*7*7x10)\n",
    "        x = x.flatten(start_dim=1)\n",
    "        x = self.fc1(x)\n",
    "\n",
    "        return x\n",
    "\n",
    "num_classes = y_train.unique().shape[0]\n",
    "model = CNN(num_classes)\n",
    "\n",
    "# Loss and Optimizer\n",
    "criterion = nn.CrossEntropyLoss()\n",
    "optimizer = optim.SGD(model.parameters(), lr=0.05)\n",
    "metrics = {'accuracy':Accuracy()}\n",
    "trainer = Trainer(model, train_dataloader, val_dataloader, optimizer, criterion, custom_metrics=metrics)\n",
    "trainer.fit(num_epochs=10)"
   ]
  },
  {
   "cell_type": "code",
   "execution_count": null,
   "metadata": {},
   "outputs": [
    {
     "name": "stdout",
     "output_type": "stream",
     "text": [
      "Training Accuracy: 97.76%\n",
      "Validation Accuracy: 97.95%\n"
     ]
    }
   ],
   "source": [
    "# Assuming the Accuracy class is defined as per your snippet\n",
    "# Ensure your model, train_loader, and val_loader are defined\n",
    "\n",
    "# Initialize accuracy trackers\n",
    "train_accuracy = Accuracy()\n",
    "val_accuracy = Accuracy()\n",
    "\n",
    "# Set model to evaluation mode\n",
    "model.eval()\n",
    "\n",
    "# No gradient calculation needed for evaluation\n",
    "with torch.no_grad():\n",
    "    # Calculate training accuracy\n",
    "    for inputs, labels in train_dataloader:\n",
    "        outputs = model(inputs)\n",
    "        train_accuracy.update(outputs, labels)\n",
    "    \n",
    "    train_acc = train_accuracy.compute()\n",
    "    train_accuracy.reset()  # Reset for future use if needed\n",
    "\n",
    "    # Calculate validation accuracy\n",
    "    for inputs, labels in val_dataloader:\n",
    "        outputs = model(inputs)\n",
    "        val_accuracy.update(outputs, labels)\n",
    "    \n",
    "    val_acc = val_accuracy.compute()\n",
    "    val_accuracy.reset()  # Reset for future use if needed\n",
    "\n",
    "print(f\"Training Accuracy: {train_acc*100:.2f}%\")\n",
    "print(f\"Validation Accuracy: {val_acc*100:.2f}%\")\n"
   ]
  }
 ],
 "metadata": {
  "kernelspec": {
   "display_name": "d2l",
   "language": "python",
   "name": "python3"
  },
  "language_info": {
   "codemirror_mode": {
    "name": "ipython",
    "version": 3
   },
   "file_extension": ".py",
   "mimetype": "text/x-python",
   "name": "python",
   "nbconvert_exporter": "python",
   "pygments_lexer": "ipython3",
   "version": "3.8.18"
  }
 },
 "nbformat": 4,
 "nbformat_minor": 2
}
