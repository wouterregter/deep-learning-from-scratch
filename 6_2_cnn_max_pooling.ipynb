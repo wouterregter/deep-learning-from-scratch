{
 "cells": [
  {
   "cell_type": "markdown",
   "metadata": {},
   "source": [
    "# Max Pooling in Convolutional Neural Networks\n",
    "\n",
    "\n",
    "Convolutional Neural Networks (CNNs) are a class of deep neural networks, most commonly applied to analyzing visual imagery. CNNs are known for their ability to automatically and adaptively learn spatial hierarchies of features from input images.\n",
    "\n",
    "## Max Pooling: Theory\n",
    "\n",
    "### What is Max Pooling?\n",
    "\n",
    "Max pooling is a downsampling technique commonly used in convolutional neural networks to reduce the dimensionality of the input data. It works by sliding a window (kernel) across the input data and taking the maximum value within the window at each step. This process is repeated across the entire input array to produce a downsampled output.\n",
    "\n",
    "### Purpose of Max Pooling\n",
    "\n",
    "1. **Reduction of Computational Load:** By reducing the dimensions of the input data, max pooling decreases the number of parameters to learn, thus speeding up the learning process.\n",
    "2. **Translation Invariance:** Max pooling helps the model to be robust against minor translations of the input data.\n",
    "3. **Feature Highlighting:** It emphasizes the most present feature in the window, which can be critical for the learning process.\n",
    "\n",
    "## Mathematical Formulation\n",
    "\n",
    "Given an input matrix $X$ of size $H \\times W$, the max pooling operation with a kernel size of $k$ and stride $s$ produces an output matrix $Y$ where each element $y_{ij}$ is calculated as:\n",
    "\n",
    "$$ y_{ij} = \\max_{a=0}^{k-1} \\max_{b=0}^{k-1} x_{(i \\cdot s + a)(j \\cdot s + b)} $$\n",
    "\n",
    "where $i$ and $j$ iterate over the output dimensions."
   ]
  },
  {
   "cell_type": "markdown",
   "metadata": {},
   "source": [
    "### Setup"
   ]
  },
  {
   "cell_type": "code",
   "execution_count": 1,
   "metadata": {},
   "outputs": [],
   "source": [
    "import torch\n",
    "import torch.nn.functional as F\n",
    "from torch import nn\n",
    "import time\n",
    "import matplotlib.pyplot as plt"
   ]
  },
  {
   "cell_type": "markdown",
   "metadata": {},
   "source": [
    "## Max Pooling Operation"
   ]
  },
  {
   "cell_type": "code",
   "execution_count": 2,
   "metadata": {},
   "outputs": [],
   "source": [
    "def maxpool2d_simple(input, kernel_size=2, stride=2):\n",
    "    \"\"\"\n",
    "    Applies a simple max pooling operation to the input tensor.\n",
    "\n",
    "    Args:\n",
    "        input (torch.Tensor): The input tensor of shape (input_height, input_width).\n",
    "        kernel_size (int): The size of the kernel used for pooling. Default is 2.\n",
    "        stride (int): The stride value used for pooling. Default is 2.\n",
    "\n",
    "    Returns:\n",
    "        torch.Tensor: The output tensor after max pooling, of shape (output_height, output_width).\n",
    "    \"\"\"\n",
    "\n",
    "    # Get the dimensions of the input tensor\n",
    "    input_height, input_width = input.shape\n",
    "\n",
    "    # Calculate the output height and width\n",
    "    output_height = (input_height - kernel_size) // stride + 1\n",
    "    output_width = (input_width - kernel_size) // stride + 1\n",
    "\n",
    "    # Create an output tensor of zeros\n",
    "    output = torch.zeros(output_height, output_width)\n",
    "\n",
    "    # Apply max pooling\n",
    "    for i in range(output_height):\n",
    "        for j in range(output_width):\n",
    "            # Take the maximum value within the kernel window\n",
    "            output[i, j] = torch.max(\n",
    "                input[\n",
    "                    i * stride : i * stride + kernel_size,\n",
    "                    j * stride : j * stride + kernel_size,\n",
    "                ]\n",
    "            )\n",
    "\n",
    "    return output"
   ]
  },
  {
   "cell_type": "code",
   "execution_count": 3,
   "metadata": {},
   "outputs": [
    {
     "name": "stdout",
     "output_type": "stream",
     "text": [
      "Input Matrix:\n",
      "tensor([[6., 8.],\n",
      "        [9., 6.]])\n"
     ]
    }
   ],
   "source": [
    "input = torch.tensor([\n",
    "    [1, 3, 2, 4],\n",
    "    [5, 6, 8, 8],\n",
    "    [9, 7, 5, 6],\n",
    "    [8, 4, 3, 2]\n",
    "])\n",
    "\n",
    "print(\"Input Matrix:\")\n",
    "print(maxpool2d_simple(input))"
   ]
  },
  {
   "cell_type": "markdown",
   "metadata": {},
   "source": [
    "## Extended Implementation"
   ]
  },
  {
   "cell_type": "code",
   "execution_count": 5,
   "metadata": {},
   "outputs": [],
   "source": [
    "def maxpool2d(input, kernel_size=2, stride=2):\n",
    "    # Get the dimensions of the input tensor\n",
    "    batch_size, in_channels, input_height, input_width = input.shape\n",
    "\n",
    "    # Calculate the dimensions of the output tensor\n",
    "    output_height = (input_height - kernel_size) // stride + 1\n",
    "    output_width = (input_width - kernel_size) // stride + 1\n",
    "\n",
    "    # Create an output tensor with zeros\n",
    "    output = torch.zeros(batch_size, in_channels, output_height, output_width)\n",
    "\n",
    "    # Perform max pooling operation\n",
    "    for b in range(batch_size):\n",
    "        for c in range(in_channels):\n",
    "            for i in range(output_height):\n",
    "                for j in range(output_width):\n",
    "                    # Take the maximum value within the kernel window\n",
    "                    output[b, c, i, j] = torch.max(\n",
    "                        input[\n",
    "                            b,\n",
    "                            c,\n",
    "                            i * stride : i * stride + kernel_size,\n",
    "                            j * stride : j * stride + kernel_size,\n",
    "                        ]\n",
    "                    )\n",
    "\n",
    "    return output"
   ]
  },
  {
   "cell_type": "markdown",
   "metadata": {},
   "source": [
    "## Checking the implementations"
   ]
  },
  {
   "cell_type": "code",
   "execution_count": 8,
   "metadata": {},
   "outputs": [
    {
     "name": "stdout",
     "output_type": "stream",
     "text": [
      "Are the outputs close? True\n",
      "Vectorized Max Pooling Time: 0.081519 seconds\n",
      "PyTorch Max Pooling Time: 0.000000 seconds\n"
     ]
    }
   ],
   "source": [
    "# Generate a test input tensor\n",
    "input = torch.randn(5, 3, 28, 28)  # Example shape: batch_size=1, channels=3, height=32, width=32\n",
    "\n",
    "# Apply Vectorized Custom Max Pooling\n",
    "start_vectorized = time.time()\n",
    "custom_output = maxpool2d(input, kernel_size=2, stride=2)\n",
    "end_vectorized = time.time()\n",
    "\n",
    "# Apply PyTorch Max Pooling\n",
    "maxpool = nn.MaxPool2d(kernel_size=2, stride=2)\n",
    "start_pytorch = time.time()\n",
    "pytorch_output = maxpool(input)\n",
    "end_pytorch = time.time()\n",
    "\n",
    "# Compare Outputs\n",
    "are_close = torch.allclose(custom_output, pytorch_output, atol=1e-6)\n",
    "print(f\"Are the outputs close? {are_close}\")\n",
    "\n",
    "# Measure and Compare Performance\n",
    "print(f\"Vectorized Max Pooling Time: {end_vectorized - start_vectorized:.6f} seconds\")\n",
    "print(f\"PyTorch Max Pooling Time: {end_pytorch - start_pytorch:.6f} seconds\")"
   ]
  },
  {
   "cell_type": "markdown",
   "metadata": {},
   "source": [
    "Because Pytorch's implementation is much more efficient we will use this implementation from now on."
   ]
  }
 ],
 "metadata": {
  "kernelspec": {
   "display_name": "d2l",
   "language": "python",
   "name": "python3"
  },
  "language_info": {
   "codemirror_mode": {
    "name": "ipython",
    "version": 3
   },
   "file_extension": ".py",
   "mimetype": "text/x-python",
   "name": "python",
   "nbconvert_exporter": "python",
   "pygments_lexer": "ipython3",
   "version": "3.8.18"
  }
 },
 "nbformat": 4,
 "nbformat_minor": 2
}
