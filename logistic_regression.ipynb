{
 "cells": [
  {
   "cell_type": "markdown",
   "metadata": {},
   "source": [
    "## Setup"
   ]
  },
  {
   "cell_type": "code",
   "execution_count": 18,
   "metadata": {},
   "outputs": [],
   "source": [
    "import pandas as pd\n",
    "import numpy as np\n",
    "import torch\n",
    "import torch.nn as nn\n",
    "import torch.optim as optim\n",
    "import torchvision\n",
    "import matplotlib.pyplot as plt\n",
    "import seaborn as sns\n",
    "from torchvision import datasets, transforms\n",
    "from torch.utils.data import DataLoader, TensorDataset\n",
    "from src.data import DataLoaderScratch\n",
    "from src.trainer import TrainerScratch\n",
    "from src.optimizers import SGDScratch"
   ]
  },
  {
   "cell_type": "markdown",
   "metadata": {},
   "source": [
    "## Load Data"
   ]
  },
  {
   "cell_type": "code",
   "execution_count": 19,
   "metadata": {},
   "outputs": [],
   "source": [
    "transform = transforms.Compose([transforms.ToTensor(), transforms.Normalize((0.5,), (0.5,))])\n",
    "mnist_trainset = datasets.MNIST(root='./data', train=True, download=True, transform=transform)\n",
    "mnist_testset = datasets.MNIST(root='./data', train=False, download=True, transform=transform)"
   ]
  },
  {
   "cell_type": "markdown",
   "metadata": {},
   "source": [
    "## Preprocessing"
   ]
  },
  {
   "cell_type": "code",
   "execution_count": 20,
   "metadata": {},
   "outputs": [],
   "source": [
    "# Transform the training data\n",
    "X_train = mnist_trainset.data.float() / 255.0\n",
    "X_train = X_train.view(X_train.shape[0], -1)\n",
    "y_train = mnist_trainset.targets\n",
    "\n",
    "# Transform the test data\n",
    "X_val = mnist_testset.data.float() / 255.0\n",
    "X_val = X_val.view(X_val.shape[0], -1)\n",
    "y_val = mnist_testset.targets\n",
    "\n",
    "train_dataloader = DataLoaderScratch(X_train, y_train, batch_size=256, shuffle=True)\n",
    "val_dataloader = DataLoaderScratch(X_val, y_val, batch_size=256, shuffle=False)"
   ]
  },
  {
   "cell_type": "markdown",
   "metadata": {},
   "source": [
    "## Logistic Regression From Scratch"
   ]
  },
  {
   "cell_type": "markdown",
   "metadata": {},
   "source": [
    "### Single Batch from Scratch"
   ]
  },
  {
   "cell_type": "code",
   "execution_count": 21,
   "metadata": {},
   "outputs": [],
   "source": [
    "num_samples = X_train.shape[0]\n",
    "num_classes = y_train.unique().shape[0]\n",
    "batch_size = 64\n",
    "\n",
    "# Initialize W, it should be shape (num_features, num_classes) because it will \n",
    "# transform the input (num_examples, num_features) to the output (num_examples, num_classes)\n",
    "W = torch.randn(size=(X_train.shape[1], num_classes), requires_grad=True)\n",
    "# Initialize b, it should be shape (1, 1) because it will be a scalar we add to each class \n",
    "# prediction for each example\n",
    "b = torch.zeros(num_classes, requires_grad=True)\n",
    "                \n",
    "# Define softmax, which maps scalars to probabilities\n",
    "def softmax(X):\n",
    "    X_exp = torch.exp(X)\n",
    "    return X_exp / X_exp.sum(axis=1, keepdims=True)\n",
    "\n",
    "# Define the log-loss \n",
    "def log_loss(y_pred, y):\n",
    "    y_one_hot = nn.functional.one_hot(y)\n",
    "    loss = -(y_one_hot * torch.log(y_pred)).sum(axis=1).mean()\n",
    "    return loss\n",
    "\n",
    "parameters = [W, b]\n",
    "optimizer = SGDScratch(parameters, lr=0.1)\n",
    "\n",
    "# Create a batch\n",
    "X_batch = X_train[: batch_size]\n",
    "y_batch = y_train[: batch_size]"
   ]
  },
  {
   "cell_type": "code",
   "execution_count": 22,
   "metadata": {},
   "outputs": [],
   "source": [
    "# Zero gradients\n",
    "optimizer.zero_grad()\n",
    "\n",
    "# Forward pass (training)\n",
    "O = X_batch @ W + b\n",
    "y_pred = softmax(O)\n",
    "\n",
    "# Calculate Loss\n",
    "loss = log_loss(y_pred, y_batch)\n",
    "\n",
    "# Backward pass (compute gradients)\n",
    "loss.backward()\n",
    "\n",
    "# Update parameters\n",
    "optimizer.step()"
   ]
  },
  {
   "cell_type": "markdown",
   "metadata": {},
   "source": [
    "### Define Training Loop and Model"
   ]
  },
  {
   "cell_type": "code",
   "execution_count": 23,
   "metadata": {},
   "outputs": [],
   "source": [
    "class LogisticRegressionScratch(nn.Module):\n",
    "    def __init__(self, in_features, num_classes):\n",
    "        super().__init__()\n",
    "        self.num_classes = num_classes\n",
    "        self.W = torch.randn(size=(in_features, num_classes), requires_grad=True)\n",
    "        self.b = torch.zeros(num_classes, requires_grad=True)\n",
    "\n",
    "    def softmax(self, X):\n",
    "        X_exp = torch.exp(X)\n",
    "        X_softmax = X_exp / X_exp.sum(axis=1, keepdims=True)\n",
    "        return X_softmax\n",
    "\n",
    "    def forward(self, X):\n",
    "        O = X @ self.W + self.b\n",
    "        y_pred = self.softmax(O)\n",
    "        return y_pred\n",
    "\n",
    "    def loss(self, y_pred, y):\n",
    "        y_one_hot = nn.functional.one_hot(y, self.num_classes)\n",
    "        loss = -(y_one_hot * torch.log(y_pred)).sum(axis=1).mean()\n",
    "        return loss\n",
    "    \n",
    "    def parameters(self):\n",
    "        return [self.W, self.b]\n",
    "\n",
    "    def accuracy(self, y_pred, y):\n",
    "        label_pred = torch.argmax(y_pred, axis=1)\n",
    "        accuracy = torch.sum(label_pred == y) / y_pred.shape[0]\n",
    "        return accuracy\n",
    "\n",
    "    def fit(self, train_dataloader, val_dataloader, num_epochs, optimizer):\n",
    "        train_losses, val_losses, val_accuracies = [], [], []\n",
    "\n",
    "        for epoch in range(num_epochs):\n",
    "            total_train_loss = 0\n",
    "            for X_train_batch, y_train_batch in train_dataloader:\n",
    "                # Zero gradients\n",
    "                optimizer.zero_grad()\n",
    "\n",
    "                # Forward pass (training)\n",
    "                y_pred_train_batch = self.forward(X_train_batch)\n",
    "\n",
    "                # Compute loss\n",
    "                train_loss_batch = self.loss(y_pred_train_batch, y_train_batch)\n",
    "\n",
    "                # Backward pass\n",
    "                train_loss_batch.backward()\n",
    "                total_train_loss += train_loss_batch.item()\n",
    "\n",
    "                # Update parameters\n",
    "                optimizer.step()\n",
    "\n",
    "            # Store average train loss\n",
    "            average_train_loss = total_train_loss / len(train_dataloader)\n",
    "            train_losses.append(average_train_loss)\n",
    "\n",
    "            # Forward pass (validation)\n",
    "            with torch.no_grad():\n",
    "                total_val_loss = 0\n",
    "                total_val_accuracy = 0\n",
    "\n",
    "                for X_val_batch, y_val_batch in val_dataloader:\n",
    "                    # Calculate val loss metrics\n",
    "                    y_pred_val_batch = self.forward(X_val_batch)\n",
    "                    loss_val_batch = self.loss(y_pred_val_batch, y_val_batch)\n",
    "                    accuracy_val_batch = self.accuracy(y_pred_val_batch, y_val_batch)\n",
    "\n",
    "                    # Accumulate the total epoch metrics\n",
    "                    total_val_loss += loss_val_batch.item()\n",
    "                    total_val_accuracy += accuracy_val_batch.item()\n",
    "\n",
    "            # Store average val metrics\n",
    "            average_val_loss = total_val_loss / len(val_dataloader)\n",
    "            average_val_accuracy = total_val_accuracy / len(val_dataloader)\n",
    "\n",
    "            val_losses.append(average_val_loss)\n",
    "            val_accuracies.append(average_val_accuracy)\n",
    "\n",
    "            # Print loss every few epochs\n",
    "            if epoch % 10 == 0:\n",
    "                print(\n",
    "                    f\"Epoch {epoch+1}/{num_epochs}, Training Loss: {average_train_loss}, Validation Loss: {average_val_loss}\"\n",
    "                )\n",
    "\n",
    "        # Plot the training and validation losses\n",
    "        plt.plot(train_losses, label=\"Training Loss\")\n",
    "        plt.plot(val_losses, label=\"Validation Loss\")\n",
    "        plt.plot(val_accuracies, label=\"Validation Loss\")\n",
    "        plt.xlabel(\"Epoch\")\n",
    "        plt.ylabel(\"Loss\")\n",
    "        plt.title(\"Training and Validation Loss\")\n",
    "        plt.legend()\n",
    "        plt.show()"
   ]
  },
  {
   "cell_type": "code",
   "execution_count": 31,
   "metadata": {},
   "outputs": [],
   "source": [
    "def accuracy(y_pred, y_true):\n",
    "    label_pred = torch.argmax(y_pred, axis=1)\n",
    "    accuracy = torch.sum(label_pred == y_true) / y_pred.shape[0]\n",
    "    return accuracy"
   ]
  },
  {
   "cell_type": "code",
   "execution_count": 24,
   "metadata": {},
   "outputs": [],
   "source": [
    "class LogisticRegressionScratch(nn.Module):\n",
    "    def __init__(self, in_features, num_classes):\n",
    "        super().__init__()\n",
    "        self.num_classes = num_classes\n",
    "        self.W = torch.randn(size=(in_features, num_classes), requires_grad=True)\n",
    "        self.b = torch.zeros(num_classes, requires_grad=True)\n",
    "\n",
    "    def softmax(self, X):\n",
    "        X_exp = torch.exp(X)\n",
    "        X_softmax = X_exp / X_exp.sum(axis=1, keepdims=True)\n",
    "        return X_softmax\n",
    "\n",
    "    def forward(self, X):\n",
    "        O = X @ self.W + self.b\n",
    "        y_pred = self.softmax(O)\n",
    "        return y_pred\n",
    "    \n",
    "    def parameters(self):\n",
    "        return [self.W, self.b]"
   ]
  },
  {
   "cell_type": "code",
   "execution_count": 27,
   "metadata": {},
   "outputs": [],
   "source": [
    "class CrossEntropyScratch(nn.Module):\n",
    "    def __init__(self, num_classes):\n",
    "        super(CrossEntropyScratch, self).__init__()\n",
    "        self.num_classes = num_classes\n",
    "\n",
    "    def forward(self, y_pred, y_true):\n",
    "        y_one_hot = nn.functional.one_hot(y_true, self.num_classes)\n",
    "        loss = -(y_one_hot * torch.log(y_pred)).sum(axis=1).mean()\n",
    "        return loss"
   ]
  },
  {
   "cell_type": "markdown",
   "metadata": {},
   "source": [
    "### Training the Model"
   ]
  },
  {
   "cell_type": "code",
   "execution_count": 36,
   "metadata": {},
   "outputs": [
    {
     "name": "stdout",
     "output_type": "stream",
     "text": [
      "Epoch 1/15, Training Loss: 10.7133, Validation Loss: 8.2796\n",
      "Epoch 2/15, Training Loss: 7.1295, Validation Loss: 6.0909\n",
      "Epoch 3/15, Training Loss: 5.4888, Validation Loss: 4.7793\n",
      "Epoch 4/15, Training Loss: 4.4255, Validation Loss: 3.9100\n",
      "Epoch 5/15, Training Loss: 3.7103, Validation Loss: 3.3147\n",
      "Epoch 6/15, Training Loss: 3.2100, Validation Loss: 2.8883\n",
      "Epoch 7/15, Training Loss: 2.8452, Validation Loss: 2.5698\n",
      "Epoch 8/15, Training Loss: 2.5707, Validation Loss: 2.3258\n",
      "Epoch 9/15, Training Loss: 2.3525, Validation Loss: 2.1319\n",
      "Epoch 10/15, Training Loss: 2.1771, Validation Loss: 1.9754\n",
      "Epoch 11/15, Training Loss: 2.0315, Validation Loss: 1.8463\n",
      "Epoch 12/15, Training Loss: 1.9120, Validation Loss: 1.7379\n",
      "Epoch 13/15, Training Loss: 1.8096, Validation Loss: 1.6464\n",
      "Epoch 14/15, Training Loss: 1.7230, Validation Loss: 1.5675\n",
      "Epoch 15/15, Training Loss: 1.6472, Validation Loss: 1.4996\n"
     ]
    },
    {
     "data": {
      "image/png": "[encoded data removed]",
      "text/plain": [
       "<Figure size 640x480 with 1 Axes>"
      ]
     },
     "metadata": {},
     "output_type": "display_data"
    }
   ],
   "source": [
    "in_features = X_train.shape[1]\n",
    "num_classes = y_train.unique().shape[0]\n",
    "num_epochs = 15\n",
    "learning_rate = 0.01\n",
    "\n",
    "model = LogisticRegressionScratch(in_features=in_features, num_classes=num_classes)\n",
    "optimizer = SGDScratch(model.parameters(), lr=learning_rate)\n",
    "criterion = CrossEntropyScratch(num_classes=num_classes)\n",
    "trainer = TrainerScratch(model, train_dataloader, val_dataloader, optimizer, criterion)\n",
    "trainer.fit(num_epochs=num_epochs)"
   ]
  },
  {
   "cell_type": "markdown",
   "metadata": {},
   "source": [
    "## Concise Implementation of Logistic Regression"
   ]
  },
  {
   "cell_type": "code",
   "execution_count": 37,
   "metadata": {},
   "outputs": [],
   "source": [
    "# Assuming X and y are your feature and target tensors\n",
    "# Split Data into Train and Test Sets\n",
    "train_dataset = TensorDataset(X_train, y_train)\n",
    "val_dataset = TensorDataset(X_val, y_val)\n",
    "\n",
    "# Define DataLoader\n",
    "batch_size = 256\n",
    "train_loader = DataLoader(train_dataset, batch_size=batch_size, shuffle=True)\n",
    "val_loader = DataLoader(val_dataset, batch_size=batch_size)\n",
    "\n",
    "# Define the Linear Regression Model\n",
    "class LogisticRegression(nn.Module):\n",
    "    def __init__(self, input_size, num_classes):\n",
    "        super(LogisticRegression, self).__init__()\n",
    "        self.linear = nn.Linear(input_size, num_classes)\n",
    "        self.softmax = nn.Softmax(dim=1)\n",
    "\n",
    "    def forward(self, x):\n",
    "        out = self.linear(x)\n",
    "        out = self.softmax(out)\n",
    "        return out\n",
    "\n",
    "model = LogisticRegression(input_size=X_train.shape[1], num_classes=y_train.unique().shape[0])\n",
    "\n",
    "# Loss and Optimizer\n",
    "criterion = nn.CrossEntropyLoss()\n",
    "optimizer = optim.SGD(model.parameters(), lr=0.1)\n",
    "\n",
    "# Train the Model\n",
    "for epoch in range(10):\n",
    "    for inputs, targets in train_loader:\n",
    "        optimizer.zero_grad()\n",
    "        outputs = model(inputs)\n",
    "        loss = criterion(outputs, targets)\n",
    "        loss.backward()\n",
    "        optimizer.step()"
   ]
  },
  {
   "cell_type": "code",
   "execution_count": 38,
   "metadata": {},
   "outputs": [
    {
     "data": {
      "text/plain": [
       "tensor(1.5841, grad_fn=<NllLossBackward0>)"
      ]
     },
     "execution_count": 38,
     "metadata": {},
     "output_type": "execute_result"
    }
   ],
   "source": [
    "loss"
   ]
  }
 ],
 "metadata": {
  "kernelspec": {
   "display_name": "d2l",
   "language": "python",
   "name": "python3"
  },
  "language_info": {
   "codemirror_mode": {
    "name": "ipython",
    "version": 3
   },
   "file_extension": ".py",
   "mimetype": "text/x-python",
   "name": "python",
   "nbconvert_exporter": "python",
   "pygments_lexer": "ipython3",
   "version": "3.9.18"
  }
 },
 "nbformat": 4,
 "nbformat_minor": 2
}
